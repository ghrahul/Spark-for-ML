{
 "cells": [
  {
   "cell_type": "code",
   "execution_count": 56,
   "metadata": {},
   "outputs": [],
   "source": [
    "from pyspark.sql import SparkSession\n",
    "\n",
    "spark = SparkSession \\\n",
    "    .builder \\\n",
    "    .appName(\"Python Spark data cleaning and engineering\") \\\n",
    "    .config(\"spark.some.config.option\", \"some-value\") \\\n",
    "    .getOrCreate()"
   ]
  },
  {
   "cell_type": "code",
   "execution_count": 57,
   "metadata": {},
   "outputs": [
    {
     "data": {
      "text/plain": [
       "DataFrame[id: string, member_id: string, loan_amnt: string, funded_amnt: string, funded_amnt_inv: string, term: string, int_rate: string, installment: string, grade: string, sub_grade: string, emp_title: string, emp_length: string, home_ownership: string, annual_inc: string, verification_status: string, issue_d: string, loan_status: string, pymnt_plan: string, url: string, desc: string, purpose: string, title: string, zip_code: string, addr_state: string, dti: string, delinq_2yrs: string, earliest_cr_line: string, inq_last_6mths: string, mths_since_last_delinq: string, mths_since_last_record: string, open_acc: string, pub_rec: string, revol_bal: string, revol_util: string, total_acc: string, initial_list_status: string, out_prncp: string, out_prncp_inv: string, total_pymnt: string, total_pymnt_inv: string, total_rec_prncp: string, total_rec_int: string, total_rec_late_fee: string, recoveries: string, collection_recovery_fee: string, last_pymnt_d: string, last_pymnt_amnt: string, next_pymnt_d: string, last_credit_pull_d: string, collections_12_mths_ex_med: string, mths_since_last_major_derog: string, policy_code: string, application_type: string, annual_inc_joint: string, dti_joint: string, verification_status_joint: string, acc_now_delinq: string, tot_coll_amt: string, tot_cur_bal: string, open_acc_6m: string, open_act_il: string, open_il_12m: string, open_il_24m: string, mths_since_rcnt_il: string, total_bal_il: string, il_util: string, open_rv_12m: string, open_rv_24m: string, max_bal_bc: string, all_util: string, total_rev_hi_lim: string, inq_fi: string, total_cu_tl: string, inq_last_12m: string, acc_open_past_24mths: string, avg_cur_bal: string, bc_open_to_buy: string, bc_util: string, chargeoff_within_12_mths: string, delinq_amnt: string, mo_sin_old_il_acct: string, mo_sin_old_rev_tl_op: string, mo_sin_rcnt_rev_tl_op: string, mo_sin_rcnt_tl: string, mort_acc: string, mths_since_recent_bc: string, mths_since_recent_bc_dlq: string, mths_since_recent_inq: string, mths_since_recent_revol_delinq: string, num_accts_ever_120_pd: string, num_actv_bc_tl: string, num_actv_rev_tl: string, num_bc_sats: string, num_bc_tl: string, num_il_tl: string, num_op_rev_tl: string, num_rev_accts: string, num_rev_tl_bal_gt_0: string, num_sats: string, num_tl_120dpd_2m: string, num_tl_30dpd: string, num_tl_90g_dpd_24m: string, num_tl_op_past_12m: string, pct_tl_nvr_dlq: string, percent_bc_gt_75: string, pub_rec_bankruptcies: string, tax_liens: string, tot_hi_cred_lim: string, total_bal_ex_mort: string, total_bc_limit: string, total_il_high_credit_limit: string, revol_bal_joint: string, sec_app_earliest_cr_line: string, sec_app_inq_last_6mths: string, sec_app_mort_acc: string, sec_app_open_acc: string, sec_app_revol_util: string, sec_app_open_act_il: string, sec_app_num_rev_accts: string, sec_app_chargeoff_within_12_mths: string, sec_app_collections_12_mths_ex_med: string, sec_app_mths_since_last_major_derog: string, hardship_flag: string, hardship_type: string, hardship_reason: string, hardship_status: string, deferral_term: string, hardship_amount: string, hardship_start_date: string, hardship_end_date: string, payment_plan_start_date: string, hardship_length: string, hardship_dpd: string, hardship_loan_status: string, orig_projected_additional_accrued_interest: string, hardship_payoff_balance_amount: string, hardship_last_payment_amount: string, disbursement_method: string, debt_settlement_flag: string, debt_settlement_flag_date: string, settlement_status: string, settlement_date: string, settlement_amount: string, settlement_percentage: string, settlement_term: string]"
      ]
     },
     "metadata": {},
     "output_type": "display_data"
    }
   ],
   "source": [
    "file_location = \"datasets/LoanStats_2018Q4.csv\"\n",
    "file_type = \"csv\"\n",
    "\n",
    "# CSV options\n",
    "infer_schema = \"false\"\n",
    "first_row_is_header = \"True\"\n",
    "delimiter = \",\"\n",
    "\n",
    "# The applied options are for CSV files. For other file types, these will be ignored.\n",
    "df = spark.read.format(file_type) \\\n",
    "  .option(\"inferSchema\", infer_schema) \\\n",
    "  .option(\"header\", first_row_is_header) \\\n",
    "  .option(\"sep\", delimiter) \\\n",
    "  .load(file_location)\n",
    "\n",
    "display(df)"
   ]
  },
  {
   "cell_type": "code",
   "execution_count": 58,
   "metadata": {},
   "outputs": [
    {
     "data": {
      "text/plain": [
       "Row(id=None, member_id=None, loan_amnt='10000', funded_amnt='10000', funded_amnt_inv='10000', term=' 36 months', int_rate='10.33%', installment='324.23', grade='B', sub_grade='B1', emp_title=None, emp_length='< 1 year', home_ownership='MORTGAGE', annual_inc='280000', verification_status='Not Verified', issue_d='Dec-18', loan_status='Current', pymnt_plan='n', url=None, desc=None, purpose='debt_consolidation', title='Debt consolidation', zip_code='974xx', addr_state='OR', dti='6.15', delinq_2yrs='2', earliest_cr_line='Jan-96', inq_last_6mths='0', mths_since_last_delinq='18', mths_since_last_record=None, open_acc='14', pub_rec='0', revol_bal='9082', revol_util='38%', total_acc='23', initial_list_status='w', out_prncp='9521.66', out_prncp_inv='9521.66', total_pymnt='639.85', total_pymnt_inv='639.85', total_rec_prncp='478.34', total_rec_int='161.51', total_rec_late_fee='0', recoveries='0', collection_recovery_fee='0', last_pymnt_d='Feb-19', last_pymnt_amnt='324.23', next_pymnt_d='Apr-19', last_credit_pull_d='Mar-19', collections_12_mths_ex_med='0', mths_since_last_major_derog=None, policy_code='1', application_type='Individual', annual_inc_joint=None, dti_joint=None, verification_status_joint=None, acc_now_delinq='0', tot_coll_amt='671', tot_cur_bal='246828', open_acc_6m='1', open_act_il='3', open_il_12m='2', open_il_24m='3', mths_since_rcnt_il='1', total_bal_il='48552', il_util='62', open_rv_12m='1', open_rv_24m='3', max_bal_bc='4923', all_util='46', total_rev_hi_lim='23900', inq_fi='2', total_cu_tl='7', inq_last_12m='1', acc_open_past_24mths='7', avg_cur_bal='17631', bc_open_to_buy='11897', bc_util='43.1', chargeoff_within_12_mths='0', delinq_amnt='0', mo_sin_old_il_acct='158', mo_sin_old_rev_tl_op='275', mo_sin_rcnt_rev_tl_op='11', mo_sin_rcnt_tl='1', mort_acc='1', mths_since_recent_bc='11', mths_since_recent_bc_dlq=None, mths_since_recent_inq='11', mths_since_recent_revol_delinq=None, num_accts_ever_120_pd='0', num_actv_bc_tl='3', num_actv_rev_tl='4', num_bc_sats='7', num_bc_tl='7', num_il_tl='10', num_op_rev_tl='9', num_rev_accts='11', num_rev_tl_bal_gt_0='4', num_sats='14', num_tl_120dpd_2m='0', num_tl_30dpd='0', num_tl_90g_dpd_24m='0', num_tl_op_past_12m='4', pct_tl_nvr_dlq='91.3', percent_bc_gt_75='28.6', pub_rec_bankruptcies='0', tax_liens='0', tot_hi_cred_lim='367828', total_bal_ex_mort='61364', total_bc_limit='20900', total_il_high_credit_limit='54912', revol_bal_joint=None, sec_app_earliest_cr_line=None, sec_app_inq_last_6mths=None, sec_app_mort_acc=None, sec_app_open_acc=None, sec_app_revol_util=None, sec_app_open_act_il=None, sec_app_num_rev_accts=None, sec_app_chargeoff_within_12_mths=None, sec_app_collections_12_mths_ex_med=None, sec_app_mths_since_last_major_derog=None, hardship_flag='N', hardship_type=None, hardship_reason=None, hardship_status=None, deferral_term=None, hardship_amount=None, hardship_start_date=None, hardship_end_date=None, payment_plan_start_date=None, hardship_length=None, hardship_dpd=None, hardship_loan_status=None, orig_projected_additional_accrued_interest=None, hardship_payoff_balance_amount=None, hardship_last_payment_amount=None, disbursement_method='DirectPay', debt_settlement_flag='N', debt_settlement_flag_date=None, settlement_status=None, settlement_date=None, settlement_amount=None, settlement_percentage=None, settlement_term=None)"
      ]
     },
     "execution_count": 58,
     "metadata": {},
     "output_type": "execute_result"
    }
   ],
   "source": [
    "df.head()"
   ]
  },
  {
   "cell_type": "code",
   "execution_count": 59,
   "metadata": {},
   "outputs": [
    {
     "data": {
      "text/plain": [
       "128416"
      ]
     },
     "execution_count": 59,
     "metadata": {},
     "output_type": "execute_result"
    }
   ],
   "source": [
    "df.count()"
   ]
  },
  {
   "cell_type": "code",
   "execution_count": 60,
   "metadata": {},
   "outputs": [],
   "source": [
    "df_sel = df.select(\"loan_amnt\", \"emp_length\", \"dti\", \"delinq_2yrs\", \"revol_util\", \"total_acc\", \"term\",\n",
    "                  \"home_ownership\", \"grade\", \"purpose\", \"int_rate\", \"addr_state\", \"loan_status\",\n",
    "                  \"application_type\", \"annual_inc\", \"num_tl_90g_dpd_24m\", \"dti_joint\")"
   ]
  },
  {
   "cell_type": "code",
   "execution_count": 61,
   "metadata": {},
   "outputs": [
    {
     "name": "stdout",
     "output_type": "stream",
     "text": [
      "+-------+------------------+----------+------------------+-------------------+----------+------------------+----------+--------------+------+--------+--------+----------+------------------+----------------+------------------+--------------------+-----------------+\n",
      "|summary|         loan_amnt|emp_length|               dti|        delinq_2yrs|revol_util|         total_acc|      term|home_ownership| grade| purpose|int_rate|addr_state|       loan_status|application_type|        annual_inc|  num_tl_90g_dpd_24m|        dti_joint|\n",
      "+-------+------------------+----------+------------------+-------------------+----------+------------------+----------+--------------+------+--------+--------+----------+------------------+----------------+------------------+--------------------+-----------------+\n",
      "|  count|            128412|    128412|            128175|             128412|    128256|            128412|    128412|        128412|128412|  128412|  128412|    128412|            128412|          128412|            128412|              128412|            16782|\n",
      "|   mean| 15971.32102139987|      null|19.933177530719732|0.22783696227766875|      null|22.677413325857398|      null|          null|  null|    null|    null|      null|              null|            null| 82797.32786094757|0.059488209824626985|19.22660231200096|\n",
      "| stddev|10150.384232741897|      null|20.143542243475498| 0.7337929617806052|      null|12.129215673024763|      null|          null|  null|    null|    null|      null|              null|            null|108298.46579150068| 0.41065173659442367|8.141631264595576|\n",
      "|    min|              1000|    1 year|                 0|                  0|        0%|                10| 36 months|           ANY|     A|     car|  10.08%|        AK|       Charged Off|      Individual|                 0|                   0|                0|\n",
      "|    max|              9975|       n/a|               999|                  9|    99.90%|                98| 60 months|          RENT|     G|vacation|   8.81%|        WY|Late (31-120 days)|       Joint App|             99999|                   9|             9.99|\n",
      "+-------+------------------+----------+------------------+-------------------+----------+------------------+----------+--------------+------+--------+--------+----------+------------------+----------------+------------------+--------------------+-----------------+\n",
      "\n"
     ]
    }
   ],
   "source": [
    "df_sel.describe().show()"
   ]
  },
  {
   "cell_type": "code",
   "execution_count": 62,
   "metadata": {},
   "outputs": [],
   "source": [
    "df_pandas = df.toPandas()"
   ]
  },
  {
   "cell_type": "code",
   "execution_count": 63,
   "metadata": {},
   "outputs": [
    {
     "data": {
      "text/html": [
       "<div>\n",
       "<style scoped>\n",
       "    .dataframe tbody tr th:only-of-type {\n",
       "        vertical-align: middle;\n",
       "    }\n",
       "\n",
       "    .dataframe tbody tr th {\n",
       "        vertical-align: top;\n",
       "    }\n",
       "\n",
       "    .dataframe thead th {\n",
       "        text-align: right;\n",
       "    }\n",
       "</style>\n",
       "<table border=\"1\" class=\"dataframe\">\n",
       "  <thead>\n",
       "    <tr style=\"text-align: right;\">\n",
       "      <th></th>\n",
       "      <th>id</th>\n",
       "      <th>member_id</th>\n",
       "      <th>loan_amnt</th>\n",
       "      <th>funded_amnt</th>\n",
       "      <th>funded_amnt_inv</th>\n",
       "      <th>term</th>\n",
       "      <th>int_rate</th>\n",
       "      <th>installment</th>\n",
       "      <th>grade</th>\n",
       "      <th>sub_grade</th>\n",
       "      <th>...</th>\n",
       "      <th>hardship_payoff_balance_amount</th>\n",
       "      <th>hardship_last_payment_amount</th>\n",
       "      <th>disbursement_method</th>\n",
       "      <th>debt_settlement_flag</th>\n",
       "      <th>debt_settlement_flag_date</th>\n",
       "      <th>settlement_status</th>\n",
       "      <th>settlement_date</th>\n",
       "      <th>settlement_amount</th>\n",
       "      <th>settlement_percentage</th>\n",
       "      <th>settlement_term</th>\n",
       "    </tr>\n",
       "  </thead>\n",
       "  <tbody>\n",
       "    <tr>\n",
       "      <th>0</th>\n",
       "      <td>None</td>\n",
       "      <td>None</td>\n",
       "      <td>10000</td>\n",
       "      <td>10000</td>\n",
       "      <td>10000</td>\n",
       "      <td>36 months</td>\n",
       "      <td>10.33%</td>\n",
       "      <td>324.23</td>\n",
       "      <td>B</td>\n",
       "      <td>B1</td>\n",
       "      <td>...</td>\n",
       "      <td>None</td>\n",
       "      <td>None</td>\n",
       "      <td>DirectPay</td>\n",
       "      <td>N</td>\n",
       "      <td>None</td>\n",
       "      <td>None</td>\n",
       "      <td>None</td>\n",
       "      <td>None</td>\n",
       "      <td>None</td>\n",
       "      <td>None</td>\n",
       "    </tr>\n",
       "    <tr>\n",
       "      <th>1</th>\n",
       "      <td>None</td>\n",
       "      <td>None</td>\n",
       "      <td>2500</td>\n",
       "      <td>2500</td>\n",
       "      <td>2500</td>\n",
       "      <td>36 months</td>\n",
       "      <td>13.56%</td>\n",
       "      <td>84.92</td>\n",
       "      <td>C</td>\n",
       "      <td>C1</td>\n",
       "      <td>...</td>\n",
       "      <td>None</td>\n",
       "      <td>None</td>\n",
       "      <td>Cash</td>\n",
       "      <td>N</td>\n",
       "      <td>None</td>\n",
       "      <td>None</td>\n",
       "      <td>None</td>\n",
       "      <td>None</td>\n",
       "      <td>None</td>\n",
       "      <td>None</td>\n",
       "    </tr>\n",
       "    <tr>\n",
       "      <th>2</th>\n",
       "      <td>None</td>\n",
       "      <td>None</td>\n",
       "      <td>12000</td>\n",
       "      <td>12000</td>\n",
       "      <td>12000</td>\n",
       "      <td>60 months</td>\n",
       "      <td>13.56%</td>\n",
       "      <td>276.49</td>\n",
       "      <td>C</td>\n",
       "      <td>C1</td>\n",
       "      <td>...</td>\n",
       "      <td>None</td>\n",
       "      <td>None</td>\n",
       "      <td>Cash</td>\n",
       "      <td>N</td>\n",
       "      <td>None</td>\n",
       "      <td>None</td>\n",
       "      <td>None</td>\n",
       "      <td>None</td>\n",
       "      <td>None</td>\n",
       "      <td>None</td>\n",
       "    </tr>\n",
       "    <tr>\n",
       "      <th>3</th>\n",
       "      <td>None</td>\n",
       "      <td>None</td>\n",
       "      <td>15000</td>\n",
       "      <td>15000</td>\n",
       "      <td>14975</td>\n",
       "      <td>60 months</td>\n",
       "      <td>14.47%</td>\n",
       "      <td>352.69</td>\n",
       "      <td>C</td>\n",
       "      <td>C2</td>\n",
       "      <td>...</td>\n",
       "      <td>None</td>\n",
       "      <td>None</td>\n",
       "      <td>Cash</td>\n",
       "      <td>N</td>\n",
       "      <td>None</td>\n",
       "      <td>None</td>\n",
       "      <td>None</td>\n",
       "      <td>None</td>\n",
       "      <td>None</td>\n",
       "      <td>None</td>\n",
       "    </tr>\n",
       "    <tr>\n",
       "      <th>4</th>\n",
       "      <td>None</td>\n",
       "      <td>None</td>\n",
       "      <td>16000</td>\n",
       "      <td>16000</td>\n",
       "      <td>16000</td>\n",
       "      <td>60 months</td>\n",
       "      <td>17.97%</td>\n",
       "      <td>406.04</td>\n",
       "      <td>D</td>\n",
       "      <td>D1</td>\n",
       "      <td>...</td>\n",
       "      <td>None</td>\n",
       "      <td>None</td>\n",
       "      <td>Cash</td>\n",
       "      <td>N</td>\n",
       "      <td>None</td>\n",
       "      <td>None</td>\n",
       "      <td>None</td>\n",
       "      <td>None</td>\n",
       "      <td>None</td>\n",
       "      <td>None</td>\n",
       "    </tr>\n",
       "  </tbody>\n",
       "</table>\n",
       "<p>5 rows × 145 columns</p>\n",
       "</div>"
      ],
      "text/plain": [
       "     id member_id loan_amnt funded_amnt funded_amnt_inv        term int_rate  \\\n",
       "0  None      None     10000       10000           10000   36 months   10.33%   \n",
       "1  None      None      2500        2500            2500   36 months   13.56%   \n",
       "2  None      None     12000       12000           12000   60 months   13.56%   \n",
       "3  None      None     15000       15000           14975   60 months   14.47%   \n",
       "4  None      None     16000       16000           16000   60 months   17.97%   \n",
       "\n",
       "  installment grade sub_grade  ... hardship_payoff_balance_amount  \\\n",
       "0      324.23     B        B1  ...                           None   \n",
       "1       84.92     C        C1  ...                           None   \n",
       "2      276.49     C        C1  ...                           None   \n",
       "3      352.69     C        C2  ...                           None   \n",
       "4      406.04     D        D1  ...                           None   \n",
       "\n",
       "  hardship_last_payment_amount disbursement_method debt_settlement_flag  \\\n",
       "0                         None           DirectPay                    N   \n",
       "1                         None                Cash                    N   \n",
       "2                         None                Cash                    N   \n",
       "3                         None                Cash                    N   \n",
       "4                         None                Cash                    N   \n",
       "\n",
       "  debt_settlement_flag_date settlement_status settlement_date  \\\n",
       "0                      None              None            None   \n",
       "1                      None              None            None   \n",
       "2                      None              None            None   \n",
       "3                      None              None            None   \n",
       "4                      None              None            None   \n",
       "\n",
       "  settlement_amount settlement_percentage settlement_term  \n",
       "0              None                  None            None  \n",
       "1              None                  None            None  \n",
       "2              None                  None            None  \n",
       "3              None                  None            None  \n",
       "4              None                  None            None  \n",
       "\n",
       "[5 rows x 145 columns]"
      ]
     },
     "execution_count": 63,
     "metadata": {},
     "output_type": "execute_result"
    }
   ],
   "source": [
    "df_pandas.head()"
   ]
  },
  {
   "cell_type": "code",
   "execution_count": 64,
   "metadata": {},
   "outputs": [],
   "source": [
    "# list(df_pandas.annual_inc.unique())"
   ]
  },
  {
   "cell_type": "markdown",
   "metadata": {},
   "source": [
    "## Replacing garbage with empty value "
   ]
  },
  {
   "cell_type": "code",
   "execution_count": 65,
   "metadata": {},
   "outputs": [
    {
     "name": "stdout",
     "output_type": "stream",
     "text": [
      "+-----------------+----------+\n",
      "|emplength_cleaned|emp_length|\n",
      "+-----------------+----------+\n",
      "|               1 |  < 1 year|\n",
      "|              10 | 10+ years|\n",
      "|               1 |  < 1 year|\n",
      "|              n/a|       n/a|\n",
      "|               5 |   5 years|\n",
      "|               9 |   9 years|\n",
      "|               3 |   3 years|\n",
      "|              10 | 10+ years|\n",
      "|              n/a|       n/a|\n",
      "|              10 | 10+ years|\n",
      "|               1 |  < 1 year|\n",
      "|              10 | 10+ years|\n",
      "|              10 | 10+ years|\n",
      "|               6 |   6 years|\n",
      "|               5 |   5 years|\n",
      "|              10 | 10+ years|\n",
      "|               2 |   2 years|\n",
      "|              10 | 10+ years|\n",
      "|               1 |  < 1 year|\n",
      "|               6 |   6 years|\n",
      "+-----------------+----------+\n",
      "only showing top 20 rows\n",
      "\n"
     ]
    }
   ],
   "source": [
    "from pyspark.sql.functions import regexp_extract, regexp_replace\n",
    "from pyspark.sql.functions import col\n",
    "\n",
    "regex_string = \"years|year|\\\\+|\\\\<\"\n",
    "df_sel.select(regexp_replace(col(\"emp_length\"), regex_string, \"\").alias(\"emplength_cleaned\"), col(\"emp_length\")).show()\n"
   ]
  },
  {
   "cell_type": "markdown",
   "metadata": {},
   "source": [
    "## Only taking digits for clean up"
   ]
  },
  {
   "cell_type": "code",
   "execution_count": 66,
   "metadata": {},
   "outputs": [],
   "source": [
    "# regex_string = \"\\\\d+\"\n",
    "# df_sel.select(regexp_extract(col(\"emp_length\"), regex_string, \"\").alias(\"emplength_cleaned\"), col(\"emp_length\")).show(10)"
   ]
  },
  {
   "cell_type": "code",
   "execution_count": 67,
   "metadata": {},
   "outputs": [
    {
     "name": "stdout",
     "output_type": "stream",
     "text": [
      "+---------+----------+-----+-----------+----------+---------+----------+--------------+-----+------------------+--------+----------+-----------+----------------+----------+------------------+---------+\n",
      "|loan_amnt|emp_length|  dti|delinq_2yrs|revol_util|total_acc|      term|home_ownership|grade|           purpose|int_rate|addr_state|loan_status|application_type|annual_inc|num_tl_90g_dpd_24m|dti_joint|\n",
      "+---------+----------+-----+-----------+----------+---------+----------+--------------+-----+------------------+--------+----------+-----------+----------------+----------+------------------+---------+\n",
      "|    10000|  < 1 year| 6.15|          2|       38%|       23| 36 months|      MORTGAGE|    B|debt_consolidation|  10.33%|        OR|    Current|      Individual|    280000|                 0|     null|\n",
      "|     2500| 10+ years|18.24|          0|    10.30%|       34| 36 months|          RENT|    C|debt_consolidation|  13.56%|        NY|    Current|      Individual|     55000|                 0|     null|\n",
      "+---------+----------+-----+-----------+----------+---------+----------+--------------+-----+------------------+--------+----------+-----------+----------------+----------+------------------+---------+\n",
      "only showing top 2 rows\n",
      "\n"
     ]
    }
   ],
   "source": [
    "df_sel.show(2)"
   ]
  },
  {
   "cell_type": "code",
   "execution_count": 68,
   "metadata": {},
   "outputs": [],
   "source": [
    "df_sel = df_sel.withColumn(\"term_cleaned\", regexp_replace(col(\"term\"), \"months\", \"\")).withColumn(\"emplen_cleaned\",\n",
    "                    regexp_extract(col(\"emp_length\"), \"\\\\d+\", 0))"
   ]
  },
  {
   "cell_type": "code",
   "execution_count": 69,
   "metadata": {},
   "outputs": [
    {
     "name": "stdout",
     "output_type": "stream",
     "text": [
      "+----------+------------+----------+--------------+\n",
      "|      term|term_cleaned|emp_length|emplen_cleaned|\n",
      "+----------+------------+----------+--------------+\n",
      "| 36 months|         36 |  < 1 year|             1|\n",
      "| 36 months|         36 | 10+ years|            10|\n",
      "| 60 months|         60 |  < 1 year|             1|\n",
      "| 60 months|         60 |       n/a|              |\n",
      "| 60 months|         60 |   5 years|             5|\n",
      "| 36 months|         36 |   9 years|             9|\n",
      "| 36 months|         36 |   3 years|             3|\n",
      "| 36 months|         36 | 10+ years|            10|\n",
      "| 36 months|         36 |       n/a|              |\n",
      "| 36 months|         36 | 10+ years|            10|\n",
      "| 60 months|         60 |  < 1 year|             1|\n",
      "| 60 months|         60 | 10+ years|            10|\n",
      "| 60 months|         60 | 10+ years|            10|\n",
      "| 36 months|         36 |   6 years|             6|\n",
      "| 60 months|         60 |   5 years|             5|\n",
      "+----------+------------+----------+--------------+\n",
      "only showing top 15 rows\n",
      "\n"
     ]
    }
   ],
   "source": [
    "df_sel.select(\"term\", \"term_cleaned\", \"emp_length\", \"emplen_cleaned\").show(15)"
   ]
  },
  {
   "cell_type": "code",
   "execution_count": 70,
   "metadata": {},
   "outputs": [
    {
     "name": "stdout",
     "output_type": "stream",
     "text": [
      "root\n",
      " |-- loan_amnt: string (nullable = true)\n",
      " |-- emp_length: string (nullable = true)\n",
      " |-- dti: string (nullable = true)\n",
      " |-- delinq_2yrs: string (nullable = true)\n",
      " |-- revol_util: string (nullable = true)\n",
      " |-- total_acc: string (nullable = true)\n",
      " |-- term: string (nullable = true)\n",
      " |-- home_ownership: string (nullable = true)\n",
      " |-- grade: string (nullable = true)\n",
      " |-- purpose: string (nullable = true)\n",
      " |-- int_rate: string (nullable = true)\n",
      " |-- addr_state: string (nullable = true)\n",
      " |-- loan_status: string (nullable = true)\n",
      " |-- application_type: string (nullable = true)\n",
      " |-- annual_inc: string (nullable = true)\n",
      " |-- num_tl_90g_dpd_24m: string (nullable = true)\n",
      " |-- dti_joint: string (nullable = true)\n",
      " |-- term_cleaned: string (nullable = true)\n",
      " |-- emplen_cleaned: string (nullable = true)\n",
      "\n"
     ]
    }
   ],
   "source": [
    "df_sel.printSchema()"
   ]
  },
  {
   "cell_type": "markdown",
   "metadata": {},
   "source": [
    "## Temporary table for storage"
   ]
  },
  {
   "cell_type": "code",
   "execution_count": 71,
   "metadata": {},
   "outputs": [],
   "source": [
    "table_name = \"loanstatus_sel\"\n",
    "df_sel.createOrReplaceTempView(table_name)"
   ]
  },
  {
   "cell_type": "code",
   "execution_count": 72,
   "metadata": {},
   "outputs": [],
   "source": [
    "# %sql\n",
    "# select * from loanstatus_sel"
   ]
  },
  {
   "cell_type": "code",
   "execution_count": 73,
   "metadata": {},
   "outputs": [
    {
     "name": "stdout",
     "output_type": "stream",
     "text": [
      "+---------+----------+-----+-----------+----------+---------+----------+--------------+-----+------------------+--------+----------+-----------+----------------+----------+------------------+---------+------------+--------------+\n",
      "|loan_amnt|emp_length|  dti|delinq_2yrs|revol_util|total_acc|      term|home_ownership|grade|           purpose|int_rate|addr_state|loan_status|application_type|annual_inc|num_tl_90g_dpd_24m|dti_joint|term_cleaned|emplen_cleaned|\n",
      "+---------+----------+-----+-----------+----------+---------+----------+--------------+-----+------------------+--------+----------+-----------+----------------+----------+------------------+---------+------------+--------------+\n",
      "|    10000|  < 1 year| 6.15|          2|       38%|       23| 36 months|      MORTGAGE|    B|debt_consolidation|  10.33%|        OR|    Current|      Individual|    280000|                 0|     null|         36 |             1|\n",
      "|     2500| 10+ years|18.24|          0|    10.30%|       34| 36 months|          RENT|    C|debt_consolidation|  13.56%|        NY|    Current|      Individual|     55000|                 0|     null|         36 |            10|\n",
      "|    12000|  < 1 year|19.23|          0|    55.50%|        9| 60 months|      MORTGAGE|    C|debt_consolidation|  13.56%|        PA|    Current|      Individual|     40000|                 0|     null|         60 |             1|\n",
      "|    15000|       n/a| 41.6|          0|    37.20%|       30| 60 months|      MORTGAGE|    C|debt_consolidation|  14.47%|        TX|    Current|       Joint App|     30000|                 0|    34.95|         60 |              |\n",
      "|    16000|   5 years|21.91|          0|    24.80%|       27| 60 months|      MORTGAGE|    D|debt_consolidation|  17.97%|        NC|    Current|      Individual|     51000|                 0|     null|         60 |             5|\n",
      "+---------+----------+-----+-----------+----------+---------+----------+--------------+-----+------------------+--------+----------+-----------+----------------+----------+------------------+---------+------------+--------------+\n",
      "only showing top 5 rows\n",
      "\n"
     ]
    }
   ],
   "source": [
    "df_sel.show(5)"
   ]
  },
  {
   "cell_type": "code",
   "execution_count": 74,
   "metadata": {},
   "outputs": [],
   "source": [
    "from pyspark.sql.types import DoubleType\n",
    "\n",
    "df_sel = df_sel.withColumn(\"annual_inc\", df_sel[\"annual_inc\"].cast(DoubleType()))\n",
    "df_sel = df_sel.withColumn(\"loan_amnt\", df_sel[\"loan_amnt\"].cast(DoubleType()))"
   ]
  },
  {
   "cell_type": "code",
   "execution_count": 75,
   "metadata": {},
   "outputs": [
    {
     "name": "stdout",
     "output_type": "stream",
     "text": [
      "root\n",
      " |-- loan_amnt: double (nullable = true)\n",
      " |-- emp_length: string (nullable = true)\n",
      " |-- dti: string (nullable = true)\n",
      " |-- delinq_2yrs: string (nullable = true)\n",
      " |-- revol_util: string (nullable = true)\n",
      " |-- total_acc: string (nullable = true)\n",
      " |-- term: string (nullable = true)\n",
      " |-- home_ownership: string (nullable = true)\n",
      " |-- grade: string (nullable = true)\n",
      " |-- purpose: string (nullable = true)\n",
      " |-- int_rate: string (nullable = true)\n",
      " |-- addr_state: string (nullable = true)\n",
      " |-- loan_status: string (nullable = true)\n",
      " |-- application_type: string (nullable = true)\n",
      " |-- annual_inc: double (nullable = true)\n",
      " |-- num_tl_90g_dpd_24m: string (nullable = true)\n",
      " |-- dti_joint: string (nullable = true)\n",
      " |-- term_cleaned: string (nullable = true)\n",
      " |-- emplen_cleaned: string (nullable = true)\n",
      "\n"
     ]
    }
   ],
   "source": [
    "df_sel.printSchema()"
   ]
  },
  {
   "cell_type": "code",
   "execution_count": 76,
   "metadata": {},
   "outputs": [
    {
     "data": {
      "text/plain": [
       "221023240.20671284"
      ]
     },
     "execution_count": 76,
     "metadata": {},
     "output_type": "execute_result"
    }
   ],
   "source": [
    "df_sel.stat.cov(\"annual_inc\", \"loan_amnt\")"
   ]
  },
  {
   "cell_type": "code",
   "execution_count": 77,
   "metadata": {},
   "outputs": [
    {
     "data": {
      "text/plain": [
       "0.20106014148486612"
      ]
     },
     "execution_count": 77,
     "metadata": {},
     "output_type": "execute_result"
    }
   ],
   "source": [
    "df_sel.stat.corr(\"annual_inc\", \"loan_amnt\")"
   ]
  },
  {
   "cell_type": "code",
   "execution_count": 78,
   "metadata": {},
   "outputs": [
    {
     "name": "stdout",
     "output_type": "stream",
     "text": [
      "+------------------+-----+-----+-----+-----+----+---+---+----+\n",
      "| loan_status_grade|    A|    B|    C|    D|   E|  F|  G|null|\n",
      "+------------------+-----+-----+-----+-----+----+---+---+----+\n",
      "|   In Grace Period|   74|  112|  146|  122|  54|  4|  1|   0|\n",
      "|        Fully Paid| 1188| 1333| 1175|  807| 360| 36|  9|   0|\n",
      "|              null|    0|    0|    0|    0|   0|  0|  0|   4|\n",
      "|Late (31-120 days)|   68|  164|  234|  220| 142| 14|  7|   0|\n",
      "| Late (16-30 days)|   26|   78|  102|   81|  46|  9|  2|   0|\n",
      "|           Current|36639|34139|29323|15823|5352|321| 79|   0|\n",
      "|       Charged Off|   16|   35|   38|   19|   8|  3|  3|   0|\n",
      "+------------------+-----+-----+-----+-----+----+---+---+----+\n",
      "\n"
     ]
    }
   ],
   "source": [
    "df_sel.crosstab('loan_status', \"grade\").show()"
   ]
  },
  {
   "cell_type": "code",
   "execution_count": 79,
   "metadata": {},
   "outputs": [],
   "source": [
    "freq = df_sel.stat.freqItems([\"purpose\", \"grade\"], 0.3)"
   ]
  },
  {
   "cell_type": "code",
   "execution_count": 80,
   "metadata": {},
   "outputs": [
    {
     "data": {
      "text/plain": [
       "[Row(purpose_freqItems=['debt_consolidation', 'credit_card', None], grade_freqItems=['A', 'C', 'B'])]"
      ]
     },
     "execution_count": 80,
     "metadata": {},
     "output_type": "execute_result"
    }
   ],
   "source": [
    "freq.collect()"
   ]
  },
  {
   "cell_type": "code",
   "execution_count": 81,
   "metadata": {},
   "outputs": [
    {
     "name": "stdout",
     "output_type": "stream",
     "text": [
      "+------------------+-----+\n",
      "|           purpose|count|\n",
      "+------------------+-----+\n",
      "|              null|    4|\n",
      "|             other| 7094|\n",
      "|    small_business| 1051|\n",
      "|debt_consolidation|70603|\n",
      "|       credit_card|34961|\n",
      "|            moving|  656|\n",
      "|          vacation|  802|\n",
      "|  renewable_energy|   71|\n",
      "|             house|  823|\n",
      "|               car| 1037|\n",
      "|    major_purchase| 2303|\n",
      "|           medical| 1499|\n",
      "|  home_improvement| 7512|\n",
      "+------------------+-----+\n",
      "\n"
     ]
    }
   ],
   "source": [
    "df_sel.groupby(\"purpose\").count().show()"
   ]
  },
  {
   "cell_type": "code",
   "execution_count": 82,
   "metadata": {},
   "outputs": [
    {
     "name": "stdout",
     "output_type": "stream",
     "text": [
      "+------------------+-----+\n",
      "|           purpose|count|\n",
      "+------------------+-----+\n",
      "|debt_consolidation|70603|\n",
      "|       credit_card|34961|\n",
      "|  home_improvement| 7512|\n",
      "|             other| 7094|\n",
      "|    major_purchase| 2303|\n",
      "|           medical| 1499|\n",
      "|    small_business| 1051|\n",
      "|               car| 1037|\n",
      "|             house|  823|\n",
      "|          vacation|  802|\n",
      "|            moving|  656|\n",
      "|  renewable_energy|   71|\n",
      "|              null|    4|\n",
      "+------------------+-----+\n",
      "\n"
     ]
    }
   ],
   "source": [
    "df_sel.groupby(\"purpose\").count().orderBy(col(\"count\").desc()).show()"
   ]
  },
  {
   "cell_type": "code",
   "execution_count": 83,
   "metadata": {},
   "outputs": [],
   "source": [
    "from pyspark.sql.functions import count, mean, stddev_pop, min, max, avg"
   ]
  },
  {
   "cell_type": "code",
   "execution_count": 84,
   "metadata": {},
   "outputs": [
    {
     "data": {
      "text/plain": [
       "[8400.0, 12750.0, 20000.0, 30000.0]"
      ]
     },
     "execution_count": 84,
     "metadata": {},
     "output_type": "execute_result"
    }
   ],
   "source": [
    "quantile_probs = [0.25, 0.5, 0.75, 0.9]\n",
    "rel_error = 0.05\n",
    "df_sel.stat.approxQuantile(\"loan_amnt\", quantile_probs, rel_error)"
   ]
  },
  {
   "cell_type": "code",
   "execution_count": 85,
   "metadata": {},
   "outputs": [
    {
     "data": {
      "text/plain": [
       "[8000.0, 14000.0, 21600.0, 32000.0]"
      ]
     },
     "execution_count": 85,
     "metadata": {},
     "output_type": "execute_result"
    }
   ],
   "source": [
    "quantile_probs = [0.25, 0.5, 0.75, 0.9]\n",
    "rel_error = 0.0\n",
    "df_sel.stat.approxQuantile(\"loan_amnt\", quantile_probs, rel_error)"
   ]
  },
  {
   "cell_type": "code",
   "execution_count": 86,
   "metadata": {},
   "outputs": [
    {
     "name": "stdout",
     "output_type": "stream",
     "text": [
      "+---------+----------+---+-----------+----------+---------+----+--------------+-----+-------+--------+----------+-----------+----------------+----------+------------------+---------+------------+--------------+\n",
      "|loan_amnt|emp_length|dti|delinq_2yrs|revol_util|total_acc|term|home_ownership|grade|purpose|int_rate|addr_state|loan_status|application_type|annual_inc|num_tl_90g_dpd_24m|dti_joint|term_cleaned|emplen_cleaned|\n",
      "+---------+----------+---+-----------+----------+---------+----+--------------+-----+-------+--------+----------+-----------+----------------+----------+------------------+---------+------------+--------------+\n",
      "|        4|         4|241|          4|       160|        4|   4|             4|    4|      4|       4|         4|          4|               4|         4|                 4|   111634|           4|             4|\n",
      "+---------+----------+---+-----------+----------+---------+----+--------------+-----+-------+--------+----------+-----------+----------------+----------+------------------+---------+------------+--------------+\n",
      "\n"
     ]
    }
   ],
   "source": [
    "from pyspark.sql.functions import isnan, when, count, col\n",
    "df_sel.select([count(when(isnan(c)|col(c).isNull(), c )).alias(c) for c in df_sel.columns]).show()"
   ]
  },
  {
   "cell_type": "code",
   "execution_count": 87,
   "metadata": {},
   "outputs": [],
   "source": [
    "df_sel = df_sel.na.drop(\"all\", subset=[\"loan_status\"])"
   ]
  },
  {
   "cell_type": "code",
   "execution_count": 88,
   "metadata": {},
   "outputs": [
    {
     "name": "stdout",
     "output_type": "stream",
     "text": [
      "+---------+----------+---+-----------+----------+---------+----+--------------+-----+-------+--------+----------+-----------+----------------+----------+------------------+---------+------------+--------------+\n",
      "|loan_amnt|emp_length|dti|delinq_2yrs|revol_util|total_acc|term|home_ownership|grade|purpose|int_rate|addr_state|loan_status|application_type|annual_inc|num_tl_90g_dpd_24m|dti_joint|term_cleaned|emplen_cleaned|\n",
      "+---------+----------+---+-----------+----------+---------+----+--------------+-----+-------+--------+----------+-----------+----------------+----------+------------------+---------+------------+--------------+\n",
      "|        0|         0|237|          0|       156|        0|   0|             0|    0|      0|       0|         0|          0|               0|         0|                 0|   111630|           0|             0|\n",
      "+---------+----------+---+-----------+----------+---------+----+--------------+-----+-------+--------+----------+-----------+----------------+----------+------------------+---------+------------+--------------+\n",
      "\n"
     ]
    }
   ],
   "source": [
    "df_sel.select([count(when(isnan(c)|col(c).isNull(), c )).alias(c) for c in df_sel.columns]).show()"
   ]
  },
  {
   "cell_type": "code",
   "execution_count": 89,
   "metadata": {},
   "outputs": [
    {
     "data": {
      "text/plain": [
       "128412"
      ]
     },
     "execution_count": 89,
     "metadata": {},
     "output_type": "execute_result"
    }
   ],
   "source": [
    "df_sel.count()"
   ]
  },
  {
   "cell_type": "code",
   "execution_count": 90,
   "metadata": {},
   "outputs": [
    {
     "name": "stdout",
     "output_type": "stream",
     "text": [
      "+-------+------------------+----------+\n",
      "|summary|               dti|revol_util|\n",
      "+-------+------------------+----------+\n",
      "|  count|            128175|    128256|\n",
      "|   mean|19.933177530719732|      null|\n",
      "| stddev|20.143542243475498|      null|\n",
      "|    min|                 0|        0%|\n",
      "|    max|               999|    99.90%|\n",
      "+-------+------------------+----------+\n",
      "\n"
     ]
    }
   ],
   "source": [
    "df_sel.describe(\"dti\", \"revol_util\").show()"
   ]
  },
  {
   "cell_type": "code",
   "execution_count": 91,
   "metadata": {},
   "outputs": [],
   "source": [
    "df_sel = df_sel.withColumn(\"revolutil_cleaned\", regexp_extract(col(\"revol_util\"), \"\\\\d+\", 0))"
   ]
  },
  {
   "cell_type": "code",
   "execution_count": 92,
   "metadata": {},
   "outputs": [
    {
     "name": "stdout",
     "output_type": "stream",
     "text": [
      "+-------+----------+-----------------+\n",
      "|summary|revol_util|revolutil_cleaned|\n",
      "+-------+----------+-----------------+\n",
      "|  count|    128256|           128256|\n",
      "|   mean|      null|43.76206961077844|\n",
      "| stddev|      null|24.80184952820706|\n",
      "|    min|        0%|                0|\n",
      "|    max|    99.90%|               99|\n",
      "+-------+----------+-----------------+\n",
      "\n"
     ]
    }
   ],
   "source": [
    "df_sel.describe(\"revol_util\", \"revolutil_cleaned\").show()"
   ]
  },
  {
   "cell_type": "code",
   "execution_count": 93,
   "metadata": {},
   "outputs": [],
   "source": [
    "def fill_avg(df, col_name):\n",
    "    return df.select(col_name).agg(avg(col_name))"
   ]
  },
  {
   "cell_type": "code",
   "execution_count": 94,
   "metadata": {},
   "outputs": [],
   "source": [
    "rev_avg = fill_avg(df_sel, \"revolutil_cleaned\")"
   ]
  },
  {
   "cell_type": "code",
   "execution_count": 95,
   "metadata": {},
   "outputs": [],
   "source": [
    "from pyspark.sql.functions import lit\n",
    "\n",
    "rev_avg = fill_avg(df_sel, \"revolutil_cleaned\").first()[0]\n",
    "df_sel = df_sel.withColumn(\"rev_avg\", lit(rev_avg))"
   ]
  },
  {
   "cell_type": "code",
   "execution_count": 96,
   "metadata": {},
   "outputs": [],
   "source": [
    "from pyspark.sql.functions import coalesce\n",
    "df_sel = df_sel.withColumn(\"revolutil_cleaned\", coalesce(col(\"revolutil_cleaned\"), col(\"rev_avg\")))"
   ]
  },
  {
   "cell_type": "code",
   "execution_count": 97,
   "metadata": {},
   "outputs": [
    {
     "name": "stdout",
     "output_type": "stream",
     "text": [
      "+-------+----------+-----------------+\n",
      "|summary|revol_util|revolutil_cleaned|\n",
      "+-------+----------+-----------------+\n",
      "|  count|    128256|           128412|\n",
      "|   mean|      null|43.76206961077843|\n",
      "| stddev|      null|24.78677969645395|\n",
      "|    min|        0%|                0|\n",
      "|    max|    99.90%|               99|\n",
      "+-------+----------+-----------------+\n",
      "\n"
     ]
    }
   ],
   "source": [
    "df_sel.describe(\"revol_util\", \"revolutil_cleaned\").show()"
   ]
  },
  {
   "cell_type": "code",
   "execution_count": 98,
   "metadata": {},
   "outputs": [],
   "source": [
    "df_sel = df_sel.withColumn(\"revolutil_cleaned\", df_sel[\"revolutil_cleaned\"].cast(\"double\"))"
   ]
  },
  {
   "cell_type": "code",
   "execution_count": 99,
   "metadata": {},
   "outputs": [
    {
     "name": "stdout",
     "output_type": "stream",
     "text": [
      "+-------+----------+-----------------+\n",
      "|summary|revol_util|revolutil_cleaned|\n",
      "+-------+----------+-----------------+\n",
      "|  count|    128256|           128412|\n",
      "|   mean|      null|43.76206961077843|\n",
      "| stddev|      null|24.78677969645395|\n",
      "|    min|        0%|              0.0|\n",
      "|    max|    99.90%|            183.0|\n",
      "+-------+----------+-----------------+\n",
      "\n"
     ]
    }
   ],
   "source": [
    "df_sel.describe(\"revol_util\", \"revolutil_cleaned\").show()"
   ]
  },
  {
   "cell_type": "code",
   "execution_count": 100,
   "metadata": {},
   "outputs": [],
   "source": [
    "df_sel = df_sel.withColumn(\"dti_cleaned\", coalesce(col(\"dti\"), col(\"dti_joint\")))"
   ]
  },
  {
   "cell_type": "code",
   "execution_count": 101,
   "metadata": {},
   "outputs": [
    {
     "name": "stdout",
     "output_type": "stream",
     "text": [
      "+------------------+------+\n",
      "|       loan_status| count|\n",
      "+------------------+------+\n",
      "|        Fully Paid|  4908|\n",
      "|   In Grace Period|   513|\n",
      "|       Charged Off|   122|\n",
      "|Late (31-120 days)|   849|\n",
      "|           Current|121676|\n",
      "| Late (16-30 days)|   344|\n",
      "+------------------+------+\n",
      "\n"
     ]
    }
   ],
   "source": [
    "df_sel.groupby(\"loan_status\").count().show()"
   ]
  },
  {
   "cell_type": "code",
   "execution_count": 102,
   "metadata": {},
   "outputs": [
    {
     "name": "stdout",
     "output_type": "stream",
     "text": [
      "+---------+----------+-----+-----------+----------+---------+----------+--------------+-----+------------------+--------+----------+------------------+----------------+----------+------------------+---------+------------+--------------+-----------------+-----------------+-----------+\n",
      "|loan_amnt|emp_length|  dti|delinq_2yrs|revol_util|total_acc|      term|home_ownership|grade|           purpose|int_rate|addr_state|       loan_status|application_type|annual_inc|num_tl_90g_dpd_24m|dti_joint|term_cleaned|emplen_cleaned|revolutil_cleaned|          rev_avg|dti_cleaned|\n",
      "+---------+----------+-----+-----------+----------+---------+----------+--------------+-----+------------------+--------+----------+------------------+----------------+----------+------------------+---------+------------+--------------+-----------------+-----------------+-----------+\n",
      "|  16000.0|   3 years|16.58|          0|    11.80%|       28| 36 months|          RENT|    B|debt_consolidation|  10.33%|        PA|Late (31-120 days)|      Individual|   71000.0|                 0|     null|         36 |             3|             11.0|43.76206961077844|      16.58|\n",
      "|  17500.0|   9 years|36.92|          0|    35.40%|       37| 60 months|      MORTGAGE|    D|debt_consolidation|  22.35%|        OH|Late (31-120 days)|       Joint App|   50000.0|                 0|    36.79|         60 |             9|             35.0|43.76206961077844|      36.92|\n",
      "|  30000.0|   2 years|14.28|          0|    14.90%|       10| 60 months|          RENT|    C|debt_consolidation|  15.02%|        NY|Late (31-120 days)|      Individual|   90000.0|                 0|     null|         60 |             2|             14.0|43.76206961077844|      14.28|\n",
      "|  20975.0|   2 years|24.27|          0|    16.60%|       21| 36 months|      MORTGAGE|    A|debt_consolidation|   8.19%|        PA|Late (31-120 days)|      Individual|  165000.0|                 0|     null|         36 |             2|             16.0|43.76206961077844|      24.27|\n",
      "|  14000.0|  < 1 year|13.48|          0|    39.10%|       18| 60 months|          RENT|    A|debt_consolidation|   8.19%|        CA|Late (31-120 days)|      Individual|   65000.0|                 0|     null|         60 |             1|             39.0|43.76206961077844|      13.48|\n",
      "|  14000.0|    1 year|25.83|          0|    73.60%|       11| 36 months|          RENT|    A|debt_consolidation|   8.19%|        WA|Late (31-120 days)|      Individual|   36000.0|                 0|     null|         36 |             1|             73.0|43.76206961077844|      25.83|\n",
      "|  20000.0|   3 years| 9.18|          0|    13.90%|       26| 36 months|          RENT|    B|          vacation|  11.80%|        NC|Late (31-120 days)|      Individual|   50000.0|                 0|     null|         36 |             3|             13.0|43.76206961077844|       9.18|\n",
      "|  32000.0|  < 1 year|  6.1|          0|    50.30%|       28| 36 months|          RENT|    B|debt_consolidation|  11.80%|        NJ|Late (31-120 days)|      Individual|   50000.0|                 0|     null|         36 |             1|             50.0|43.76206961077844|        6.1|\n",
      "|   9100.0|   3 years|13.38|          0|    12.10%|       23| 36 months|           OWN|    E|             other|  26.31%|        IN|Late (31-120 days)|      Individual|   62000.0|                 0|     null|         36 |             3|             12.0|43.76206961077844|      13.38|\n",
      "|   5000.0|    1 year|16.77|          0|    30.50%|        9| 36 months|          RENT|    C|       credit_card|  13.56%|        OR|Late (31-120 days)|      Individual|   50000.0|                 0|     null|         36 |             1|             30.0|43.76206961077844|      16.77|\n",
      "|  36000.0|   9 years| 4.14|          0|     0.30%|       29| 60 months|          RENT|    C|    major_purchase|  14.47%|        CA|Late (31-120 days)|      Individual|   93600.0|                 0|     null|         60 |             9|              0.0|43.76206961077844|       4.14|\n",
      "|  19500.0| 10+ years|29.83|          0|       66%|       33| 36 months|          RENT|    E|       credit_card|  24.37%|        NY|Late (31-120 days)|      Individual|   56000.0|                 0|     null|         36 |            10|             66.0|43.76206961077844|      29.83|\n",
      "|   1500.0|  < 1 year| 9.24|          0|    83.20%|        3| 36 months|          RENT|    E|          vacation|  25.34%|        NY|Late (31-120 days)|      Individual|   20000.0|                 0|     null|         36 |             1|             83.0|43.76206961077844|       9.24|\n",
      "|   3525.0| 10+ years|14.25|          0|    31.10%|       15| 36 months|      MORTGAGE|    E|debt_consolidation|  25.34%|        GA|Late (31-120 days)|      Individual|  150000.0|                 0|     null|         36 |            10|             31.0|43.76206961077844|      14.25|\n",
      "|  11000.0| 10+ years|28.79|          0|    31.70%|       32| 60 months|      MORTGAGE|    C|debt_consolidation|  16.91%|        CA|Late (31-120 days)|      Individual|   97000.0|                 0|     null|         60 |            10|             31.0|43.76206961077844|      28.79|\n",
      "|  11500.0|   8 years| 2.55|          0|       20%|       12| 36 months|          RENT|    C|debt_consolidation|  13.56%|        MT|Late (31-120 days)|      Individual|   33000.0|                 0|     null|         36 |             8|             20.0|43.76206961077844|       2.55|\n",
      "|  22000.0|   5 years|15.59|          0|    46.40%|       46| 36 months|      MORTGAGE|    A|debt_consolidation|   8.81%|        CA|Late (31-120 days)|      Individual|  165000.0|                 0|     null|         36 |             5|             46.0|43.76206961077844|      15.59|\n",
      "|  19200.0|   9 years|39.11|          4|    28.30%|       53| 60 months|           OWN|    D|debt_consolidation|  17.97%|        NV|Late (31-120 days)|      Individual|   85000.0|                 2|     null|         60 |             9|             28.0|43.76206961077844|      39.11|\n",
      "|  40000.0|   5 years|17.88|          0|    78.30%|       16| 60 months|          RENT|    B|debt_consolidation|  11.80%|        IN|Late (31-120 days)|      Individual|  130000.0|                 0|     null|         60 |             5|             78.0|43.76206961077844|      17.88|\n",
      "|   8000.0| 10+ years|17.83|          0|    29.10%|       49| 36 months|      MORTGAGE|    A|       credit_card|   6.46%|        WA|       Charged Off|      Individual|   55000.0|                 0|     null|         36 |            10|             29.0|43.76206961077844|      17.83|\n",
      "+---------+----------+-----+-----------+----------+---------+----------+--------------+-----+------------------+--------+----------+------------------+----------------+----------+------------------+---------+------------+--------------+-----------------+-----------------+-----------+\n",
      "only showing top 20 rows\n",
      "\n"
     ]
    }
   ],
   "source": [
    "df_sel.where(df_sel.loan_status.isin([\"In Grace Period\", \"Charged Off\", \n",
    "                                      \"Late (31-120 days)\",\"Late (16-30 days)\"])).show()"
   ]
  },
  {
   "cell_type": "code",
   "execution_count": 105,
   "metadata": {},
   "outputs": [],
   "source": [
    "df_sel = df_sel.withColumn(\"bad_loan\", when(df_sel.loan_status.isin([ \"In Grace Period\", \"Charged Off\", \n",
    "                                      \"Late (31-120 days)\", \"Late (16-30 days)\"]), \"Yes\").otherwise(\"No\"))"
   ]
  },
  {
   "cell_type": "code",
   "execution_count": 106,
   "metadata": {},
   "outputs": [
    {
     "name": "stdout",
     "output_type": "stream",
     "text": [
      "+--------+------+\n",
      "|bad_loan| count|\n",
      "+--------+------+\n",
      "|      No|126584|\n",
      "|     Yes|  1828|\n",
      "+--------+------+\n",
      "\n"
     ]
    }
   ],
   "source": [
    "df_sel.groupby(\"bad_loan\").count().show()"
   ]
  },
  {
   "cell_type": "code",
   "execution_count": 107,
   "metadata": {},
   "outputs": [
    {
     "name": "stdout",
     "output_type": "stream",
     "text": [
      "+---------+----------+-----+-----------+----------+---------+----------+--------------+-----+------------------+--------+----------+------------------+----------------+----------+------------------+---------+------------+--------------+-----------------+-----------------+-----------+--------+\n",
      "|loan_amnt|emp_length|  dti|delinq_2yrs|revol_util|total_acc|      term|home_ownership|grade|           purpose|int_rate|addr_state|       loan_status|application_type|annual_inc|num_tl_90g_dpd_24m|dti_joint|term_cleaned|emplen_cleaned|revolutil_cleaned|          rev_avg|dti_cleaned|bad_loan|\n",
      "+---------+----------+-----+-----------+----------+---------+----------+--------------+-----+------------------+--------+----------+------------------+----------------+----------+------------------+---------+------------+--------------+-----------------+-----------------+-----------+--------+\n",
      "|  16000.0|   3 years|16.58|          0|    11.80%|       28| 36 months|          RENT|    B|debt_consolidation|  10.33%|        PA|Late (31-120 days)|      Individual|   71000.0|                 0|     null|         36 |             3|             11.0|43.76206961077844|      16.58|     Yes|\n",
      "|  17500.0|   9 years|36.92|          0|    35.40%|       37| 60 months|      MORTGAGE|    D|debt_consolidation|  22.35%|        OH|Late (31-120 days)|       Joint App|   50000.0|                 0|    36.79|         60 |             9|             35.0|43.76206961077844|      36.92|     Yes|\n",
      "|  30000.0|   2 years|14.28|          0|    14.90%|       10| 60 months|          RENT|    C|debt_consolidation|  15.02%|        NY|Late (31-120 days)|      Individual|   90000.0|                 0|     null|         60 |             2|             14.0|43.76206961077844|      14.28|     Yes|\n",
      "|  20975.0|   2 years|24.27|          0|    16.60%|       21| 36 months|      MORTGAGE|    A|debt_consolidation|   8.19%|        PA|Late (31-120 days)|      Individual|  165000.0|                 0|     null|         36 |             2|             16.0|43.76206961077844|      24.27|     Yes|\n",
      "|  14000.0|  < 1 year|13.48|          0|    39.10%|       18| 60 months|          RENT|    A|debt_consolidation|   8.19%|        CA|Late (31-120 days)|      Individual|   65000.0|                 0|     null|         60 |             1|             39.0|43.76206961077844|      13.48|     Yes|\n",
      "|  14000.0|    1 year|25.83|          0|    73.60%|       11| 36 months|          RENT|    A|debt_consolidation|   8.19%|        WA|Late (31-120 days)|      Individual|   36000.0|                 0|     null|         36 |             1|             73.0|43.76206961077844|      25.83|     Yes|\n",
      "|  20000.0|   3 years| 9.18|          0|    13.90%|       26| 36 months|          RENT|    B|          vacation|  11.80%|        NC|Late (31-120 days)|      Individual|   50000.0|                 0|     null|         36 |             3|             13.0|43.76206961077844|       9.18|     Yes|\n",
      "|  32000.0|  < 1 year|  6.1|          0|    50.30%|       28| 36 months|          RENT|    B|debt_consolidation|  11.80%|        NJ|Late (31-120 days)|      Individual|   50000.0|                 0|     null|         36 |             1|             50.0|43.76206961077844|        6.1|     Yes|\n",
      "|   9100.0|   3 years|13.38|          0|    12.10%|       23| 36 months|           OWN|    E|             other|  26.31%|        IN|Late (31-120 days)|      Individual|   62000.0|                 0|     null|         36 |             3|             12.0|43.76206961077844|      13.38|     Yes|\n",
      "|   5000.0|    1 year|16.77|          0|    30.50%|        9| 36 months|          RENT|    C|       credit_card|  13.56%|        OR|Late (31-120 days)|      Individual|   50000.0|                 0|     null|         36 |             1|             30.0|43.76206961077844|      16.77|     Yes|\n",
      "|  36000.0|   9 years| 4.14|          0|     0.30%|       29| 60 months|          RENT|    C|    major_purchase|  14.47%|        CA|Late (31-120 days)|      Individual|   93600.0|                 0|     null|         60 |             9|              0.0|43.76206961077844|       4.14|     Yes|\n",
      "|  19500.0| 10+ years|29.83|          0|       66%|       33| 36 months|          RENT|    E|       credit_card|  24.37%|        NY|Late (31-120 days)|      Individual|   56000.0|                 0|     null|         36 |            10|             66.0|43.76206961077844|      29.83|     Yes|\n",
      "|   1500.0|  < 1 year| 9.24|          0|    83.20%|        3| 36 months|          RENT|    E|          vacation|  25.34%|        NY|Late (31-120 days)|      Individual|   20000.0|                 0|     null|         36 |             1|             83.0|43.76206961077844|       9.24|     Yes|\n",
      "|   3525.0| 10+ years|14.25|          0|    31.10%|       15| 36 months|      MORTGAGE|    E|debt_consolidation|  25.34%|        GA|Late (31-120 days)|      Individual|  150000.0|                 0|     null|         36 |            10|             31.0|43.76206961077844|      14.25|     Yes|\n",
      "|  11000.0| 10+ years|28.79|          0|    31.70%|       32| 60 months|      MORTGAGE|    C|debt_consolidation|  16.91%|        CA|Late (31-120 days)|      Individual|   97000.0|                 0|     null|         60 |            10|             31.0|43.76206961077844|      28.79|     Yes|\n",
      "|  11500.0|   8 years| 2.55|          0|       20%|       12| 36 months|          RENT|    C|debt_consolidation|  13.56%|        MT|Late (31-120 days)|      Individual|   33000.0|                 0|     null|         36 |             8|             20.0|43.76206961077844|       2.55|     Yes|\n",
      "|  22000.0|   5 years|15.59|          0|    46.40%|       46| 36 months|      MORTGAGE|    A|debt_consolidation|   8.81%|        CA|Late (31-120 days)|      Individual|  165000.0|                 0|     null|         36 |             5|             46.0|43.76206961077844|      15.59|     Yes|\n",
      "|  19200.0|   9 years|39.11|          4|    28.30%|       53| 60 months|           OWN|    D|debt_consolidation|  17.97%|        NV|Late (31-120 days)|      Individual|   85000.0|                 2|     null|         60 |             9|             28.0|43.76206961077844|      39.11|     Yes|\n",
      "|  40000.0|   5 years|17.88|          0|    78.30%|       16| 60 months|          RENT|    B|debt_consolidation|  11.80%|        IN|Late (31-120 days)|      Individual|  130000.0|                 0|     null|         60 |             5|             78.0|43.76206961077844|      17.88|     Yes|\n",
      "|   8000.0| 10+ years|17.83|          0|    29.10%|       49| 36 months|      MORTGAGE|    A|       credit_card|   6.46%|        WA|       Charged Off|      Individual|   55000.0|                 0|     null|         36 |            10|             29.0|43.76206961077844|      17.83|     Yes|\n",
      "+---------+----------+-----+-----------+----------+---------+----------+--------------+-----+------------------+--------+----------+------------------+----------------+----------+------------------+---------+------------+--------------+-----------------+-----------------+-----------+--------+\n",
      "only showing top 20 rows\n",
      "\n"
     ]
    }
   ],
   "source": [
    "df_sel.filter(df_sel.bad_loan == \"Yes\").show()"
   ]
  },
  {
   "cell_type": "code",
   "execution_count": 108,
   "metadata": {},
   "outputs": [
    {
     "name": "stdout",
     "output_type": "stream",
     "text": [
      "root\n",
      " |-- loan_amnt: double (nullable = true)\n",
      " |-- emp_length: string (nullable = true)\n",
      " |-- dti: string (nullable = true)\n",
      " |-- delinq_2yrs: string (nullable = true)\n",
      " |-- revol_util: string (nullable = true)\n",
      " |-- total_acc: string (nullable = true)\n",
      " |-- term: string (nullable = true)\n",
      " |-- home_ownership: string (nullable = true)\n",
      " |-- grade: string (nullable = true)\n",
      " |-- purpose: string (nullable = true)\n",
      " |-- int_rate: string (nullable = true)\n",
      " |-- addr_state: string (nullable = true)\n",
      " |-- loan_status: string (nullable = true)\n",
      " |-- application_type: string (nullable = true)\n",
      " |-- annual_inc: double (nullable = true)\n",
      " |-- num_tl_90g_dpd_24m: string (nullable = true)\n",
      " |-- dti_joint: string (nullable = true)\n",
      " |-- term_cleaned: string (nullable = true)\n",
      " |-- emplen_cleaned: string (nullable = true)\n",
      " |-- revolutil_cleaned: double (nullable = true)\n",
      " |-- rev_avg: double (nullable = false)\n",
      " |-- dti_cleaned: string (nullable = true)\n",
      " |-- bad_loan: string (nullable = false)\n",
      "\n"
     ]
    }
   ],
   "source": [
    "df_sel.printSchema()"
   ]
  },
  {
   "cell_type": "code",
   "execution_count": 109,
   "metadata": {},
   "outputs": [],
   "source": [
    "df_sel_final = df_sel.drop(\"revol_util\", \"dti\", \"dti_joint\")"
   ]
  },
  {
   "cell_type": "code",
   "execution_count": 110,
   "metadata": {},
   "outputs": [
    {
     "name": "stdout",
     "output_type": "stream",
     "text": [
      "+--------------+-----+-----+-----+-----+----+---+---+\n",
      "|bad_loan_grade|    A|    B|    C|    D|   E|  F|  G|\n",
      "+--------------+-----+-----+-----+-----+----+---+---+\n",
      "|            No|37827|35472|30498|16630|5712|357| 88|\n",
      "|           Yes|  184|  389|  520|  442| 250| 30| 13|\n",
      "+--------------+-----+-----+-----+-----+----+---+---+\n",
      "\n"
     ]
    }
   ],
   "source": [
    "df_sel.crosstab(\"bad_loan\", \"grade\").show()"
   ]
  },
  {
   "cell_type": "code",
   "execution_count": null,
   "metadata": {},
   "outputs": [],
   "source": [
    "# permanent_table_name = \"loan_data_cleaned\"\n",
    "# df_sel_final.write.format(\"parquet\").saveAsTable(permanent_table_name)"
   ]
  },
  {
   "cell_type": "code",
   "execution_count": 113,
   "metadata": {},
   "outputs": [],
   "source": [
    "df_sel.write.csv('loan_data_cleaned.csv')"
   ]
  },
  {
   "cell_type": "code",
   "execution_count": null,
   "metadata": {},
   "outputs": [],
   "source": []
  }
 ],
 "metadata": {
  "kernelspec": {
   "display_name": "Python 3",
   "language": "python",
   "name": "python3"
  },
  "language_info": {
   "codemirror_mode": {
    "name": "ipython",
    "version": 3
   },
   "file_extension": ".py",
   "mimetype": "text/x-python",
   "name": "python",
   "nbconvert_exporter": "python",
   "pygments_lexer": "ipython3",
   "version": "3.7.6"
  }
 },
 "nbformat": 4,
 "nbformat_minor": 4
}
