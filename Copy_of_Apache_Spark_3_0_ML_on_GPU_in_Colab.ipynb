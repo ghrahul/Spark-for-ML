{
  "nbformat": 4,
  "nbformat_minor": 0,
  "metadata": {
    "colab": {
      "name": "Copy of Apache Spark 3.0 ML on GPU in Colab.ipynb",
      "provenance": [],
      "collapsed_sections": []
    },
    "kernelspec": {
      "name": "python3",
      "display_name": "Python 3"
    },
    "accelerator": "GPU"
  },
  "cells": [
    {
      "cell_type": "markdown",
      "metadata": {
        "id": "CKmmrXGdWtMv",
        "colab_type": "text"
      },
      "source": [
        "From AI Engineering videos by Srivatsan Srinivasan"
      ]
    },
    {
      "cell_type": "code",
      "metadata": {
        "id": "PxABYv6orSsW",
        "colab_type": "code",
        "colab": {
          "base_uri": "https://localhost:8080/",
          "height": 357
        },
        "outputId": "6553338b-fc84-4a21-ab81-e6e490e78ddd"
      },
      "source": [
        "!nvidia-smi"
      ],
      "execution_count": null,
      "outputs": [
        {
          "output_type": "stream",
          "text": [
            "Tue Sep 15 03:25:11 2020       \n",
            "+-----------------------------------------------------------------------------+\n",
            "| NVIDIA-SMI 450.66       Driver Version: 418.67       CUDA Version: 10.1     |\n",
            "|-------------------------------+----------------------+----------------------+\n",
            "| GPU  Name        Persistence-M| Bus-Id        Disp.A | Volatile Uncorr. ECC |\n",
            "| Fan  Temp  Perf  Pwr:Usage/Cap|         Memory-Usage | GPU-Util  Compute M. |\n",
            "|                               |                      |               MIG M. |\n",
            "|===============================+======================+======================|\n",
            "|   0  Tesla P100-PCIE...  Off  | 00000000:00:04.0 Off |                    0 |\n",
            "| N/A   44C    P0    28W / 250W |      0MiB / 16280MiB |      0%      Default |\n",
            "|                               |                      |                 ERR! |\n",
            "+-------------------------------+----------------------+----------------------+\n",
            "                                                                               \n",
            "+-----------------------------------------------------------------------------+\n",
            "| Processes:                                                                  |\n",
            "|  GPU   GI   CI        PID   Type   Process name                  GPU Memory |\n",
            "|        ID   ID                                                   Usage      |\n",
            "|=============================================================================|\n",
            "|  No running processes found                                                 |\n",
            "+-----------------------------------------------------------------------------+\n"
          ],
          "name": "stdout"
        }
      ]
    },
    {
      "cell_type": "code",
      "metadata": {
        "id": "jEymwVEhRU51",
        "colab_type": "code",
        "colab": {}
      },
      "source": [
        "!apt-get install openjdk-8-jdk-headless -qq > /dev/null\n",
        "!wget -q https://downloads.apache.org/spark/spark-3.0.1/spark-3.0.1-bin-hadoop2.7.tgz\n"
      ],
      "execution_count": null,
      "outputs": []
    },
    {
      "cell_type": "code",
      "metadata": {
        "id": "9QZJ-R6Mzjqz",
        "colab_type": "code",
        "colab": {}
      },
      "source": [
        "!tar xf spark-3.0.1-bin-hadoop2.7.tgz\n",
        "!pip install -q findspark"
      ],
      "execution_count": null,
      "outputs": []
    },
    {
      "cell_type": "code",
      "metadata": {
        "id": "kCNwVCj1pdFj",
        "colab_type": "code",
        "colab": {
          "base_uri": "https://localhost:8080/",
          "height": 765
        },
        "outputId": "015ae46e-11d4-4b54-8c3e-8b2ee18e356e"
      },
      "source": [
        "!wget https://repo1.maven.org/maven2/ai/rapids/cudf/0.14/cudf-0.14-cuda10-1.jar\n",
        "!wget https://repo1.maven.org/maven2/com/nvidia/xgboost4j_3.0/1.0.0-0.1.0/xgboost4j_3.0-1.0.0-0.1.0.jar\n",
        "!wget https://repo1.maven.org/maven2/com/nvidia/xgboost4j-spark_3.0/1.0.0-0.1.0/xgboost4j-spark_3.0-1.0.0-0.1.0.jar\n",
        "!wget http://insecure.repo1.maven.org/maven2/com/nvidia/rapids-4-spark_2.12/0.1.0/rapids-4-spark_2.12-0.1.0.jar"
      ],
      "execution_count": null,
      "outputs": [
        {
          "output_type": "stream",
          "text": [
            "--2020-09-15 03:25:31--  https://repo1.maven.org/maven2/ai/rapids/cudf/0.14/cudf-0.14-cuda10-1.jar\n",
            "Resolving repo1.maven.org (repo1.maven.org)... 199.232.192.209, 199.232.196.209\n",
            "Connecting to repo1.maven.org (repo1.maven.org)|199.232.192.209|:443... connected.\n",
            "HTTP request sent, awaiting response... 200 OK\n",
            "Length: 145993287 (139M) [application/java-archive]\n",
            "Saving to: ‘cudf-0.14-cuda10-1.jar’\n",
            "\n",
            "cudf-0.14-cuda10-1. 100%[===================>] 139.23M   179MB/s    in 0.8s    \n",
            "\n",
            "2020-09-15 03:25:36 (179 MB/s) - ‘cudf-0.14-cuda10-1.jar’ saved [145993287/145993287]\n",
            "\n",
            "--2020-09-15 03:25:36--  https://repo1.maven.org/maven2/com/nvidia/xgboost4j_3.0/1.0.0-0.1.0/xgboost4j_3.0-1.0.0-0.1.0.jar\n",
            "Resolving repo1.maven.org (repo1.maven.org)... 199.232.192.209, 199.232.196.209\n",
            "Connecting to repo1.maven.org (repo1.maven.org)|199.232.192.209|:443... connected.\n",
            "HTTP request sent, awaiting response... 200 OK\n",
            "Length: 231556205 (221M) [application/java-archive]\n",
            "Saving to: ‘xgboost4j_3.0-1.0.0-0.1.0.jar’\n",
            "\n",
            "xgboost4j_3.0-1.0.0 100%[===================>] 220.83M   206MB/s    in 1.1s    \n",
            "\n",
            "2020-09-15 03:25:43 (206 MB/s) - ‘xgboost4j_3.0-1.0.0-0.1.0.jar’ saved [231556205/231556205]\n",
            "\n",
            "--2020-09-15 03:25:43--  https://repo1.maven.org/maven2/com/nvidia/xgboost4j-spark_3.0/1.0.0-0.1.0/xgboost4j-spark_3.0-1.0.0-0.1.0.jar\n",
            "Resolving repo1.maven.org (repo1.maven.org)... 199.232.192.209, 199.232.196.209\n",
            "Connecting to repo1.maven.org (repo1.maven.org)|199.232.192.209|:443... connected.\n",
            "HTTP request sent, awaiting response... 200 OK\n",
            "Length: 2040779 (1.9M) [application/java-archive]\n",
            "Saving to: ‘xgboost4j-spark_3.0-1.0.0-0.1.0.jar’\n",
            "\n",
            "xgboost4j-spark_3.0 100%[===================>]   1.95M  --.-KB/s    in 0.04s   \n",
            "\n",
            "2020-09-15 03:25:44 (44.1 MB/s) - ‘xgboost4j-spark_3.0-1.0.0-0.1.0.jar’ saved [2040779/2040779]\n",
            "\n",
            "--2020-09-15 03:25:44--  http://insecure.repo1.maven.org/maven2/com/nvidia/rapids-4-spark_2.12/0.1.0/rapids-4-spark_2.12-0.1.0.jar\n",
            "Resolving insecure.repo1.maven.org (insecure.repo1.maven.org)... 151.101.0.204, 151.101.64.204, 151.101.128.204, ...\n",
            "Connecting to insecure.repo1.maven.org (insecure.repo1.maven.org)|151.101.0.204|:80... connected.\n",
            "HTTP request sent, awaiting response... 200 OK\n",
            "Length: 6676958 (6.4M) [application/java-archive]\n",
            "Saving to: ‘rapids-4-spark_2.12-0.1.0.jar’\n",
            "\n",
            "rapids-4-spark_2.12 100%[===================>]   6.37M  --.-KB/s    in 0.1s    \n",
            "\n",
            "2020-09-15 03:25:45 (53.6 MB/s) - ‘rapids-4-spark_2.12-0.1.0.jar’ saved [6676958/6676958]\n",
            "\n"
          ],
          "name": "stdout"
        }
      ]
    },
    {
      "cell_type": "code",
      "metadata": {
        "id": "BbugtVXGgQwt",
        "colab_type": "code",
        "colab": {
          "base_uri": "https://localhost:8080/",
          "height": 85
        },
        "outputId": "a6e89677-b1b8-4e24-854f-80409a4659ab"
      },
      "source": [
        "!ls\n",
        "!pwd"
      ],
      "execution_count": null,
      "outputs": [
        {
          "output_type": "stream",
          "text": [
            "cudf-0.14-cuda10-1.jar\t       xgboost4j_3.0-1.0.0-0.1.0.jar\n",
            "rapids-4-spark_2.12-0.1.0.jar  xgboost4j-spark_3.0-1.0.0-0.1.0.jar\n",
            "sample_data\n",
            "/content\n"
          ],
          "name": "stdout"
        }
      ]
    },
    {
      "cell_type": "code",
      "metadata": {
        "id": "CrzF3tsBJ-3r",
        "colab_type": "code",
        "colab": {}
      },
      "source": [
        "import os\n",
        "os.environ[\"JAVA_HOME\"] = \"/usr/lib/jvm/java-8-openjdk-amd64\"\n",
        "os.environ[\"SPARK_HOME\"] = \"/content/spark-3.0.1-bin-hadoop2.7\""
      ],
      "execution_count": null,
      "outputs": []
    },
    {
      "cell_type": "code",
      "metadata": {
        "id": "8d6HUb7Xhc2m",
        "colab_type": "code",
        "colab": {}
      },
      "source": [
        "os.environ['PYSPARK_SUBMIT_ARGS'] = '--jars /content/cudf-0.14-cuda10-1.jar,/content/xgboost4j_3.0-1.0.0-0.1.0.jar,/content/xgboost4j-spark_3.0-1.0.0-0.1.0.jar,/content/rapids-4-spark_2.12-0.1.0.jar pyspark-shell'"
      ],
      "execution_count": null,
      "outputs": []
    },
    {
      "cell_type": "code",
      "metadata": {
        "id": "TyrI8ZghKksx",
        "colab_type": "code",
        "colab": {}
      },
      "source": [
        "import findspark\n",
        "findspark.init()\n",
        "from pyspark.sql import SparkSession\n",
        "spark = SparkSession.builder.master(\"local[*]\").config(\"spark.plugins\", \"com.nvidia.spark.SQLPlugin\").config(\"spark.rapids.memory.gpu.pooling.enabled\",False).getOrCreate()\n",
        "spark.sparkContext.addPyFile('/content/xgboost4j-spark_3.0-1.0.0-0.1.0.jar')\n",
        "spark.sparkContext.addPyFile('/content/rapids-4-spark_2.12-0.1.0.jar')"
      ],
      "execution_count": null,
      "outputs": []
    },
    {
      "cell_type": "code",
      "metadata": {
        "id": "XqfQz-kD2jjs",
        "colab_type": "code",
        "colab": {}
      },
      "source": [
        "reader = spark.read"
      ],
      "execution_count": null,
      "outputs": []
    },
    {
      "cell_type": "code",
      "metadata": {
        "id": "5G845ub6jiQw",
        "colab_type": "code",
        "colab": {}
      },
      "source": [
        "from ml.dmlc.xgboost4j.scala.spark import XGBoostClassificationModel, XGBoostClassifier\n",
        "\n",
        "import numpy as np\n",
        "import pandas as pd"
      ],
      "execution_count": null,
      "outputs": []
    },
    {
      "cell_type": "code",
      "metadata": {
        "id": "UBAoDCOeDXYP",
        "colab_type": "code",
        "colab": {
          "base_uri": "https://localhost:8080/",
          "height": 391
        },
        "outputId": "d3fff2de-fd37-44ee-e778-4362bbc1c075"
      },
      "source": [
        "!wget https://raw.githubusercontent.com/srivatsan88/YouTubeLI/master/dataset/covtype_train.parquet\n",
        "!wget https://raw.githubusercontent.com/srivatsan88/YouTubeLI/master/dataset/covtype_test.parquet"
      ],
      "execution_count": null,
      "outputs": [
        {
          "output_type": "stream",
          "text": [
            "--2020-09-15 03:29:50--  https://raw.githubusercontent.com/srivatsan88/YouTubeLI/master/dataset/covtype_train.parquet\n",
            "Resolving raw.githubusercontent.com (raw.githubusercontent.com)... 151.101.0.133, 151.101.64.133, 151.101.128.133, ...\n",
            "Connecting to raw.githubusercontent.com (raw.githubusercontent.com)|151.101.0.133|:443... connected.\n",
            "HTTP request sent, awaiting response... 200 OK\n",
            "Length: 6827427 (6.5M) [application/octet-stream]\n",
            "Saving to: ‘covtype_train.parquet’\n",
            "\n",
            "covtype_train.parqu 100%[===================>]   6.51M  34.7MB/s    in 0.2s    \n",
            "\n",
            "2020-09-15 03:29:51 (34.7 MB/s) - ‘covtype_train.parquet’ saved [6827427/6827427]\n",
            "\n",
            "--2020-09-15 03:29:51--  https://raw.githubusercontent.com/srivatsan88/YouTubeLI/master/dataset/covtype_test.parquet\n",
            "Resolving raw.githubusercontent.com (raw.githubusercontent.com)... 151.101.0.133, 151.101.64.133, 151.101.128.133, ...\n",
            "Connecting to raw.githubusercontent.com (raw.githubusercontent.com)|151.101.0.133|:443... connected.\n",
            "HTTP request sent, awaiting response... 200 OK\n",
            "Length: 1591040 (1.5M) [application/octet-stream]\n",
            "Saving to: ‘covtype_test.parquet’\n",
            "\n",
            "covtype_test.parque 100%[===================>]   1.52M  --.-KB/s    in 0.05s   \n",
            "\n",
            "2020-09-15 03:29:51 (28.6 MB/s) - ‘covtype_test.parquet’ saved [1591040/1591040]\n",
            "\n"
          ],
          "name": "stdout"
        }
      ]
    },
    {
      "cell_type": "code",
      "metadata": {
        "id": "DdTcafR-3DoQ",
        "colab_type": "code",
        "colab": {
          "base_uri": "https://localhost:8080/",
          "height": 255
        },
        "outputId": "0e9477a8-dbdb-494b-eb40-5d23e0ea171c"
      },
      "source": [
        "!ls -alrt"
      ],
      "execution_count": null,
      "outputs": [
        {
          "output_type": "stream",
          "text": [
            "total 815020\n",
            "-rw-r--r--  1 root root 145993287 Jun  9 13:17 cudf-0.14-cuda10-1.jar\n",
            "-rw-r--r--  1 root root   6676958 Jun 20 02:24 rapids-4-spark_2.12-0.1.0.jar\n",
            "-rw-r--r--  1 root root 231556205 Jun 26 03:20 xgboost4j_3.0-1.0.0-0.1.0.jar\n",
            "-rw-r--r--  1 root root   2040779 Jun 26 03:21 xgboost4j-spark_3.0-1.0.0-0.1.0.jar\n",
            "drwxr-xr-x 13 1000 1000      4096 Aug 28 08:10 spark-3.0.1-bin-hadoop2.7\n",
            "-rw-r--r--  1 root root 219929956 Aug 28 09:25 spark-3.0.1-bin-hadoop2.7.tgz.1\n",
            "-rw-r--r--  1 root root 219929956 Aug 28 09:25 spark-3.0.1-bin-hadoop2.7.tgz\n",
            "drwxr-xr-x  1 root root      4096 Sep 11 16:28 sample_data\n",
            "drwxr-xr-x  1 root root      4096 Sep 11 16:28 .config\n",
            "drwxr-xr-x  1 root root      4096 Sep 15 03:21 ..\n",
            "-rw-r--r--  1 root root   6827427 Sep 15 03:29 covtype_train.parquet\n",
            "drwxr-xr-x  1 root root      4096 Sep 15 03:29 .\n",
            "-rw-r--r--  1 root root   1591040 Sep 15 03:29 covtype_test.parquet\n"
          ],
          "name": "stdout"
        }
      ]
    },
    {
      "cell_type": "code",
      "metadata": {
        "id": "FOkHwbMZ27gh",
        "colab_type": "code",
        "colab": {}
      },
      "source": [
        "import pyarrow.parquet as pq"
      ],
      "execution_count": null,
      "outputs": []
    },
    {
      "cell_type": "code",
      "metadata": {
        "id": "SaMjfngP4NBW",
        "colab_type": "code",
        "colab": {
          "base_uri": "https://localhost:8080/",
          "height": 1000
        },
        "outputId": "c220b589-1fe3-4cff-acef-8a0abb7957a9"
      },
      "source": [
        "pq.read_table('covtype_train.parquet')"
      ],
      "execution_count": null,
      "outputs": [
        {
          "output_type": "execute_result",
          "data": {
            "text/plain": [
              "pyarrow.Table\n",
              "Elevation: double\n",
              "Aspect: double\n",
              "Slope: double\n",
              "Horizontal_Distance_To_Hydrology: double\n",
              "Vertical_Distance_To_Hydrology: double\n",
              "Horizontal_Distance_To_Roadways: double\n",
              "Hillshade_9am: double\n",
              "Hillshade_Noon: double\n",
              "Hillshade_3pm: double\n",
              "Horizontal_Distance_To_Fire_Points: double\n",
              "Wilderness_Area1: double\n",
              "Wilderness_Area2: double\n",
              "Wilderness_Area3: double\n",
              "Wilderness_Area4: double\n",
              "Soil_Type1: double\n",
              "Soil_Type2: double\n",
              "Soil_Type3: double\n",
              "Soil_Type4: double\n",
              "Soil_Type5: double\n",
              "Soil_Type6: double\n",
              "Soil_Type7: double\n",
              "Soil_Type8: double\n",
              "Soil_Type9: double\n",
              "Soil_Type10: double\n",
              "Soil_Type11: double\n",
              "Soil_Type12: double\n",
              "Soil_Type13: double\n",
              "Soil_Type14: double\n",
              "Soil_Type15: double\n",
              "Soil_Type16: double\n",
              "Soil_Type17: double\n",
              "Soil_Type18: double\n",
              "Soil_Type19: double\n",
              "Soil_Type20: double\n",
              "Soil_Type21: double\n",
              "Soil_Type22: double\n",
              "Soil_Type23: double\n",
              "Soil_Type24: double\n",
              "Soil_Type25: double\n",
              "Soil_Type26: double\n",
              "Soil_Type27: double\n",
              "Soil_Type28: double\n",
              "Soil_Type29: double\n",
              "Soil_Type30: double\n",
              "Soil_Type31: double\n",
              "Soil_Type32: double\n",
              "Soil_Type33: double\n",
              "Soil_Type34: double\n",
              "Soil_Type35: double\n",
              "Soil_Type36: double\n",
              "Soil_Type37: double\n",
              "Soil_Type38: double\n",
              "Soil_Type39: double\n",
              "Soil_Type40: double\n",
              "target: int64\n",
              "metadata\n",
              "--------\n",
              "OrderedDict([(b'pandas',\n",
              "              b'{\"index_columns\": [], \"column_indexes\": [], \"columns\": [{\"na'\n",
              "              b'me\": \"Elevation\", \"field_name\": \"Elevation\", \"pandas_type\": '\n",
              "              b'\"float64\", \"numpy_type\": \"float64\", \"metadata\": null}, {\"nam'\n",
              "              b'e\": \"Aspect\", \"field_name\": \"Aspect\", \"pandas_type\": \"float6'\n",
              "              b'4\", \"numpy_type\": \"float64\", \"metadata\": null}, {\"name\": \"Sl'\n",
              "              b'ope\", \"field_name\": \"Slope\", \"pandas_type\": \"float64\", \"nump'\n",
              "              b'y_type\": \"float64\", \"metadata\": null}, {\"name\": \"Horizontal_'\n",
              "              b'Distance_To_Hydrology\", \"field_name\": \"Horizontal_Distance_T'\n",
              "              b'o_Hydrology\", \"pandas_type\": \"float64\", \"numpy_type\": \"float'\n",
              "              b'64\", \"metadata\": null}, {\"name\": \"Vertical_Distance_To_Hydro'\n",
              "              b'logy\", \"field_name\": \"Vertical_Distance_To_Hydrology\", \"pand'\n",
              "              b'as_type\": \"float64\", \"numpy_type\": \"float64\", \"metadata\": nu'\n",
              "              b'll}, {\"name\": \"Horizontal_Distance_To_Roadways\", \"field_name'\n",
              "              b'\": \"Horizontal_Distance_To_Roadways\", \"pandas_type\": \"float6'\n",
              "              b'4\", \"numpy_type\": \"float64\", \"metadata\": null}, {\"name\": \"Hi'\n",
              "              b'llshade_9am\", \"field_name\": \"Hillshade_9am\", \"pandas_type\": '\n",
              "              b'\"float64\", \"numpy_type\": \"float64\", \"metadata\": null}, {\"nam'\n",
              "              b'e\": \"Hillshade_Noon\", \"field_name\": \"Hillshade_Noon\", \"panda'\n",
              "              b's_type\": \"float64\", \"numpy_type\": \"float64\", \"metadata\": nul'\n",
              "              b'l}, {\"name\": \"Hillshade_3pm\", \"field_name\": \"Hillshade_3pm\",'\n",
              "              b' \"pandas_type\": \"float64\", \"numpy_type\": \"float64\", \"metadat'\n",
              "              b'a\": null}, {\"name\": \"Horizontal_Distance_To_Fire_Points\", \"f'\n",
              "              b'ield_name\": \"Horizontal_Distance_To_Fire_Points\", \"pandas_ty'\n",
              "              b'pe\": \"float64\", \"numpy_type\": \"float64\", \"metadata\": null}, '\n",
              "              b'{\"name\": \"Wilderness_Area1\", \"field_name\": \"Wilderness_Area1'\n",
              "              b'\", \"pandas_type\": \"float64\", \"numpy_type\": \"float64\", \"metad'\n",
              "              b'ata\": null}, {\"name\": \"Wilderness_Area2\", \"field_name\": \"Wil'\n",
              "              b'derness_Area2\", \"pandas_type\": \"float64\", \"numpy_type\": \"flo'\n",
              "              b'at64\", \"metadata\": null}, {\"name\": \"Wilderness_Area3\", \"fiel'\n",
              "              b'd_name\": \"Wilderness_Area3\", \"pandas_type\": \"float64\", \"nump'\n",
              "              b'y_type\": \"float64\", \"metadata\": null}, {\"name\": \"Wilderness_'\n",
              "              b'Area4\", \"field_name\": \"Wilderness_Area4\", \"pandas_type\": \"fl'\n",
              "              b'oat64\", \"numpy_type\": \"float64\", \"metadata\": null}, {\"name\":'\n",
              "              b' \"Soil_Type1\", \"field_name\": \"Soil_Type1\", \"pandas_type\": \"f'\n",
              "              b'loat64\", \"numpy_type\": \"float64\", \"metadata\": null}, {\"name\"'\n",
              "              b': \"Soil_Type2\", \"field_name\": \"Soil_Type2\", \"pandas_type\": \"'\n",
              "              b'float64\", \"numpy_type\": \"float64\", \"metadata\": null}, {\"name'\n",
              "              b'\": \"Soil_Type3\", \"field_name\": \"Soil_Type3\", \"pandas_type\": '\n",
              "              b'\"float64\", \"numpy_type\": \"float64\", \"metadata\": null}, {\"nam'\n",
              "              b'e\": \"Soil_Type4\", \"field_name\": \"Soil_Type4\", \"pandas_type\":'\n",
              "              b' \"float64\", \"numpy_type\": \"float64\", \"metadata\": null}, {\"na'\n",
              "              b'me\": \"Soil_Type5\", \"field_name\": \"Soil_Type5\", \"pandas_type\"'\n",
              "              b': \"float64\", \"numpy_type\": \"float64\", \"metadata\": null}, {\"n'\n",
              "              b'ame\": \"Soil_Type6\", \"field_name\": \"Soil_Type6\", \"pandas_type'\n",
              "              b'\": \"float64\", \"numpy_type\": \"float64\", \"metadata\": null}, {\"'\n",
              "              b'name\": \"Soil_Type7\", \"field_name\": \"Soil_Type7\", \"pandas_typ'\n",
              "              b'e\": \"float64\", \"numpy_type\": \"float64\", \"metadata\": null}, {'\n",
              "              b'\"name\": \"Soil_Type8\", \"field_name\": \"Soil_Type8\", \"pandas_ty'\n",
              "              b'pe\": \"float64\", \"numpy_type\": \"float64\", \"metadata\": null}, '\n",
              "              b'{\"name\": \"Soil_Type9\", \"field_name\": \"Soil_Type9\", \"pandas_t'\n",
              "              b'ype\": \"float64\", \"numpy_type\": \"float64\", \"metadata\": null},'\n",
              "              b' {\"name\": \"Soil_Type10\", \"field_name\": \"Soil_Type10\", \"panda'\n",
              "              b's_type\": \"float64\", \"numpy_type\": \"float64\", \"metadata\": nul'\n",
              "              b'l}, {\"name\": \"Soil_Type11\", \"field_name\": \"Soil_Type11\", \"pa'\n",
              "              b'ndas_type\": \"float64\", \"numpy_type\": \"float64\", \"metadata\": '\n",
              "              b'null}, {\"name\": \"Soil_Type12\", \"field_name\": \"Soil_Type12\", '\n",
              "              b'\"pandas_type\": \"float64\", \"numpy_type\": \"float64\", \"metadata'\n",
              "              b'\": null}, {\"name\": \"Soil_Type13\", \"field_name\": \"Soil_Type13'\n",
              "              b'\", \"pandas_type\": \"float64\", \"numpy_type\": \"float64\", \"metad'\n",
              "              b'ata\": null}, {\"name\": \"Soil_Type14\", \"field_name\": \"Soil_Typ'\n",
              "              b'e14\", \"pandas_type\": \"float64\", \"numpy_type\": \"float64\", \"me'\n",
              "              b'tadata\": null}, {\"name\": \"Soil_Type15\", \"field_name\": \"Soil_'\n",
              "              b'Type15\", \"pandas_type\": \"float64\", \"numpy_type\": \"float64\", '\n",
              "              b'\"metadata\": null}, {\"name\": \"Soil_Type16\", \"field_name\": \"So'\n",
              "              b'il_Type16\", \"pandas_type\": \"float64\", \"numpy_type\": \"float64'\n",
              "              b'\", \"metadata\": null}, {\"name\": \"Soil_Type17\", \"field_name\": '\n",
              "              b'\"Soil_Type17\", \"pandas_type\": \"float64\", \"numpy_type\": \"floa'\n",
              "              b't64\", \"metadata\": null}, {\"name\": \"Soil_Type18\", \"field_name'\n",
              "              b'\": \"Soil_Type18\", \"pandas_type\": \"float64\", \"numpy_type\": \"f'\n",
              "              b'loat64\", \"metadata\": null}, {\"name\": \"Soil_Type19\", \"field_n'\n",
              "              b'ame\": \"Soil_Type19\", \"pandas_type\": \"float64\", \"numpy_type\":'\n",
              "              b' \"float64\", \"metadata\": null}, {\"name\": \"Soil_Type20\", \"fiel'\n",
              "              b'd_name\": \"Soil_Type20\", \"pandas_type\": \"float64\", \"numpy_typ'\n",
              "              b'e\": \"float64\", \"metadata\": null}, {\"name\": \"Soil_Type21\", \"f'\n",
              "              b'ield_name\": \"Soil_Type21\", \"pandas_type\": \"float64\", \"numpy_'\n",
              "              b'type\": \"float64\", \"metadata\": null}, {\"name\": \"Soil_Type22\",'\n",
              "              b' \"field_name\": \"Soil_Type22\", \"pandas_type\": \"float64\", \"num'\n",
              "              b'py_type\": \"float64\", \"metadata\": null}, {\"name\": \"Soil_Type2'\n",
              "              b'3\", \"field_name\": \"Soil_Type23\", \"pandas_type\": \"float64\", \"'\n",
              "              b'numpy_type\": \"float64\", \"metadata\": null}, {\"name\": \"Soil_Ty'\n",
              "              b'pe24\", \"field_name\": \"Soil_Type24\", \"pandas_type\": \"float64\"'\n",
              "              b', \"numpy_type\": \"float64\", \"metadata\": null}, {\"name\": \"Soil'\n",
              "              b'_Type25\", \"field_name\": \"Soil_Type25\", \"pandas_type\": \"float'\n",
              "              b'64\", \"numpy_type\": \"float64\", \"metadata\": null}, {\"name\": \"S'\n",
              "              b'oil_Type26\", \"field_name\": \"Soil_Type26\", \"pandas_type\": \"fl'\n",
              "              b'oat64\", \"numpy_type\": \"float64\", \"metadata\": null}, {\"name\":'\n",
              "              b' \"Soil_Type27\", \"field_name\": \"Soil_Type27\", \"pandas_type\": '\n",
              "              b'\"float64\", \"numpy_type\": \"float64\", \"metadata\": null}, {\"nam'\n",
              "              b'e\": \"Soil_Type28\", \"field_name\": \"Soil_Type28\", \"pandas_type'\n",
              "              b'\": \"float64\", \"numpy_type\": \"float64\", \"metadata\": null}, {\"'\n",
              "              b'name\": \"Soil_Type29\", \"field_name\": \"Soil_Type29\", \"pandas_t'\n",
              "              b'ype\": \"float64\", \"numpy_type\": \"float64\", \"metadata\": null},'\n",
              "              b' {\"name\": \"Soil_Type30\", \"field_name\": \"Soil_Type30\", \"panda'\n",
              "              b's_type\": \"float64\", \"numpy_type\": \"float64\", \"metadata\": nul'\n",
              "              b'l}, {\"name\": \"Soil_Type31\", \"field_name\": \"Soil_Type31\", \"pa'\n",
              "              b'ndas_type\": \"float64\", \"numpy_type\": \"float64\", \"metadata\": '\n",
              "              b'null}, {\"name\": \"Soil_Type32\", \"field_name\": \"Soil_Type32\", '\n",
              "              b'\"pandas_type\": \"float64\", \"numpy_type\": \"float64\", \"metadata'\n",
              "              b'\": null}, {\"name\": \"Soil_Type33\", \"field_name\": \"Soil_Type33'\n",
              "              b'\", \"pandas_type\": \"float64\", \"numpy_type\": \"float64\", \"metad'\n",
              "              b'ata\": null}, {\"name\": \"Soil_Type34\", \"field_name\": \"Soil_Typ'\n",
              "              b'e34\", \"pandas_type\": \"float64\", \"numpy_type\": \"float64\", \"me'\n",
              "              b'tadata\": null}, {\"name\": \"Soil_Type35\", \"field_name\": \"Soil_'\n",
              "              b'Type35\", \"pandas_type\": \"float64\", \"numpy_type\": \"float64\", '\n",
              "              b'\"metadata\": null}, {\"name\": \"Soil_Type36\", \"field_name\": \"So'\n",
              "              b'il_Type36\", \"pandas_type\": \"float64\", \"numpy_type\": \"float64'\n",
              "              b'\", \"metadata\": null}, {\"name\": \"Soil_Type37\", \"field_name\": '\n",
              "              b'\"Soil_Type37\", \"pandas_type\": \"float64\", \"numpy_type\": \"floa'\n",
              "              b't64\", \"metadata\": null}, {\"name\": \"Soil_Type38\", \"field_name'\n",
              "              b'\": \"Soil_Type38\", \"pandas_type\": \"float64\", \"numpy_type\": \"f'\n",
              "              b'loat64\", \"metadata\": null}, {\"name\": \"Soil_Type39\", \"field_n'\n",
              "              b'ame\": \"Soil_Type39\", \"pandas_type\": \"float64\", \"numpy_type\":'\n",
              "              b' \"float64\", \"metadata\": null}, {\"name\": \"Soil_Type40\", \"fiel'\n",
              "              b'd_name\": \"Soil_Type40\", \"pandas_type\": \"float64\", \"numpy_typ'\n",
              "              b'e\": \"float64\", \"metadata\": null}, {\"name\": \"target\", \"field_'\n",
              "              b'name\": \"target\", \"pandas_type\": \"int64\", \"numpy_type\": \"int6'\n",
              "              b'4\", \"metadata\": null}], \"creator\": {\"library\": \"pyarrow\", \"v'\n",
              "              b'ersion\": \"0.14.1\"}, \"pandas_version\": \"1.0.5\"}')])"
            ]
          },
          "metadata": {
            "tags": []
          },
          "execution_count": 19
        }
      ]
    },
    {
      "cell_type": "code",
      "metadata": {
        "id": "IPASQafp0LiF",
        "colab_type": "code",
        "colab": {}
      },
      "source": [
        "train_data = reader.format('parquet').load('covtype_train.parquet')\n",
        "test_data = reader.format('parquet').load('covtype_test.parquet')"
      ],
      "execution_count": null,
      "outputs": []
    },
    {
      "cell_type": "code",
      "metadata": {
        "id": "sEygKT7L5bg1",
        "colab_type": "code",
        "colab": {
          "base_uri": "https://localhost:8080/",
          "height": 479
        },
        "outputId": "1cb3a1c8-7ac9-4d96-d354-059deec756d7"
      },
      "source": [
        "train_data.show()"
      ],
      "execution_count": null,
      "outputs": [
        {
          "output_type": "stream",
          "text": [
            "+---------+------+-----+--------------------------------+------------------------------+-------------------------------+-------------+--------------+-------------+----------------------------------+----------------+----------------+----------------+----------------+----------+----------+----------+----------+----------+----------+----------+----------+----------+-----------+-----------+-----------+-----------+-----------+-----------+-----------+-----------+-----------+-----------+-----------+-----------+-----------+-----------+-----------+-----------+-----------+-----------+-----------+-----------+-----------+-----------+-----------+-----------+-----------+-----------+-----------+-----------+-----------+-----------+-----------+------+\n",
            "|Elevation|Aspect|Slope|Horizontal_Distance_To_Hydrology|Vertical_Distance_To_Hydrology|Horizontal_Distance_To_Roadways|Hillshade_9am|Hillshade_Noon|Hillshade_3pm|Horizontal_Distance_To_Fire_Points|Wilderness_Area1|Wilderness_Area2|Wilderness_Area3|Wilderness_Area4|Soil_Type1|Soil_Type2|Soil_Type3|Soil_Type4|Soil_Type5|Soil_Type6|Soil_Type7|Soil_Type8|Soil_Type9|Soil_Type10|Soil_Type11|Soil_Type12|Soil_Type13|Soil_Type14|Soil_Type15|Soil_Type16|Soil_Type17|Soil_Type18|Soil_Type19|Soil_Type20|Soil_Type21|Soil_Type22|Soil_Type23|Soil_Type24|Soil_Type25|Soil_Type26|Soil_Type27|Soil_Type28|Soil_Type29|Soil_Type30|Soil_Type31|Soil_Type32|Soil_Type33|Soil_Type34|Soil_Type35|Soil_Type36|Soil_Type37|Soil_Type38|Soil_Type39|Soil_Type40|target|\n",
            "+---------+------+-----+--------------------------------+------------------------------+-------------------------------+-------------+--------------+-------------+----------------------------------+----------------+----------------+----------------+----------------+----------+----------+----------+----------+----------+----------+----------+----------+----------+-----------+-----------+-----------+-----------+-----------+-----------+-----------+-----------+-----------+-----------+-----------+-----------+-----------+-----------+-----------+-----------+-----------+-----------+-----------+-----------+-----------+-----------+-----------+-----------+-----------+-----------+-----------+-----------+-----------+-----------+-----------+------+\n",
            "|   3381.0|   0.0| 18.0|                           497.0|                         187.0|                         4201.0|        190.0|         203.0|        147.0|                            3736.0|             0.0|             0.0|             1.0|             0.0|       0.0|       0.0|       0.0|       0.0|       0.0|       0.0|       0.0|       0.0|       0.0|        0.0|        0.0|        0.0|        0.0|        0.0|        0.0|        0.0|        0.0|        0.0|        0.0|        0.0|        0.0|        0.0|        0.0|        0.0|        0.0|        0.0|        0.0|        0.0|        0.0|        0.0|        0.0|        0.0|        0.0|        0.0|        0.0|        0.0|        0.0|        0.0|        0.0|        1.0|     6|\n",
            "|   3039.0| 291.0| 12.0|                           361.0|                          87.0|                          618.0|        187.0|         238.0|        191.0|                             742.0|             0.0|             1.0|             0.0|             0.0|       0.0|       0.0|       0.0|       0.0|       0.0|       0.0|       0.0|       0.0|       0.0|        0.0|        0.0|        0.0|        0.0|        0.0|        0.0|        0.0|        0.0|        0.0|        0.0|        0.0|        0.0|        1.0|        0.0|        0.0|        0.0|        0.0|        0.0|        0.0|        0.0|        0.0|        0.0|        0.0|        0.0|        0.0|        0.0|        0.0|        0.0|        0.0|        0.0|        0.0|     1|\n",
            "|   3318.0| 353.0| 21.0|                           309.0|                          84.0|                         4548.0|        179.0|         198.0|        153.0|                            1324.0|             0.0|             0.0|             1.0|             0.0|       0.0|       0.0|       0.0|       0.0|       0.0|       0.0|       0.0|       0.0|       0.0|        0.0|        0.0|        0.0|        0.0|        0.0|        0.0|        0.0|        0.0|        0.0|        0.0|        0.0|        0.0|        0.0|        0.0|        0.0|        0.0|        0.0|        0.0|        0.0|        0.0|        0.0|        0.0|        0.0|        0.0|        0.0|        0.0|        0.0|        0.0|        0.0|        1.0|        0.0|     0|\n",
            "|   2823.0|  67.0| 13.0|                           170.0|                          54.0|                         2514.0|        233.0|         213.0|        110.0|                            2879.0|             1.0|             0.0|             0.0|             0.0|       0.0|       0.0|       0.0|       0.0|       0.0|       0.0|       0.0|       0.0|       0.0|        0.0|        0.0|        0.0|        0.0|        0.0|        0.0|        0.0|        0.0|        0.0|        0.0|        0.0|        0.0|        0.0|        0.0|        0.0|        0.0|        0.0|        0.0|        0.0|        1.0|        0.0|        0.0|        0.0|        0.0|        0.0|        0.0|        0.0|        0.0|        0.0|        0.0|        0.0|     1|\n",
            "|   3211.0|  16.0| 19.0|                           350.0|                          36.0|                         3254.0|        200.0|         196.0|        128.0|                            3129.0|             0.0|             0.0|             1.0|             0.0|       0.0|       0.0|       0.0|       0.0|       0.0|       0.0|       0.0|       0.0|       0.0|        0.0|        0.0|        0.0|        0.0|        0.0|        0.0|        0.0|        0.0|        0.0|        0.0|        0.0|        0.0|        0.0|        0.0|        1.0|        0.0|        0.0|        0.0|        0.0|        0.0|        0.0|        0.0|        0.0|        0.0|        0.0|        0.0|        0.0|        0.0|        0.0|        0.0|        0.0|     1|\n",
            "|   2797.0| 129.0|  9.0|                             0.0|                           0.0|                         2400.0|        235.0|         235.0|        130.0|                            1611.0|             0.0|             0.0|             1.0|             0.0|       0.0|       0.0|       0.0|       0.0|       0.0|       0.0|       0.0|       0.0|       0.0|        0.0|        0.0|        0.0|        1.0|        0.0|        0.0|        0.0|        0.0|        0.0|        0.0|        0.0|        0.0|        0.0|        0.0|        0.0|        0.0|        0.0|        0.0|        0.0|        0.0|        0.0|        0.0|        0.0|        0.0|        0.0|        0.0|        0.0|        0.0|        0.0|        0.0|        0.0|     1|\n",
            "|   3385.0| 282.0|  8.0|                           899.0|                         179.0|                         1092.0|        198.0|         241.0|        182.0|                            2130.0|             0.0|             0.0|             1.0|             0.0|       0.0|       0.0|       0.0|       0.0|       0.0|       0.0|       0.0|       0.0|       0.0|        0.0|        0.0|        0.0|        0.0|        0.0|        0.0|        0.0|        0.0|        0.0|        0.0|        0.0|        0.0|        0.0|        0.0|        0.0|        0.0|        0.0|        0.0|        0.0|        0.0|        0.0|        0.0|        1.0|        0.0|        0.0|        0.0|        0.0|        0.0|        0.0|        0.0|        0.0|     0|\n",
            "|   3065.0|   0.0|  4.0|                           242.0|                          10.0|                         3298.0|        214.0|         232.0|        156.0|                             485.0|             1.0|             0.0|             0.0|             0.0|       0.0|       0.0|       0.0|       0.0|       0.0|       0.0|       0.0|       0.0|       0.0|        0.0|        0.0|        0.0|        0.0|        0.0|        0.0|        0.0|        0.0|        0.0|        0.0|        0.0|        0.0|        1.0|        0.0|        0.0|        0.0|        0.0|        0.0|        0.0|        0.0|        0.0|        0.0|        0.0|        0.0|        0.0|        0.0|        0.0|        0.0|        0.0|        0.0|        0.0|     0|\n",
            "|   3209.0| 157.0|  7.0|                           309.0|                          46.0|                         5057.0|        228.0|         241.0|        146.0|                            1575.0|             1.0|             0.0|             0.0|             0.0|       0.0|       0.0|       0.0|       0.0|       0.0|       0.0|       0.0|       0.0|       0.0|        0.0|        0.0|        0.0|        0.0|        0.0|        0.0|        0.0|        0.0|        0.0|        0.0|        0.0|        0.0|        0.0|        0.0|        0.0|        0.0|        0.0|        0.0|        0.0|        1.0|        0.0|        0.0|        0.0|        0.0|        0.0|        0.0|        0.0|        0.0|        0.0|        0.0|        0.0|     0|\n",
            "|   3004.0| 151.0| 18.0|                            90.0|                           3.0|                         3458.0|        240.0|         237.0|        120.0|                            5949.0|             1.0|             0.0|             0.0|             0.0|       0.0|       0.0|       0.0|       0.0|       0.0|       0.0|       0.0|       0.0|       0.0|        0.0|        0.0|        0.0|        0.0|        0.0|        0.0|        0.0|        0.0|        0.0|        0.0|        0.0|        0.0|        0.0|        0.0|        0.0|        0.0|        0.0|        0.0|        0.0|        1.0|        0.0|        0.0|        0.0|        0.0|        0.0|        0.0|        0.0|        0.0|        0.0|        0.0|        0.0|     1|\n",
            "|   2898.0| 124.0|  5.0|                           335.0|                          65.0|                         2989.0|        229.0|         236.0|        140.0|                            2230.0|             1.0|             0.0|             0.0|             0.0|       0.0|       0.0|       0.0|       0.0|       0.0|       0.0|       0.0|       0.0|       0.0|        0.0|        0.0|        1.0|        0.0|        0.0|        0.0|        0.0|        0.0|        0.0|        0.0|        0.0|        0.0|        0.0|        0.0|        0.0|        0.0|        0.0|        0.0|        0.0|        0.0|        0.0|        0.0|        0.0|        0.0|        0.0|        0.0|        0.0|        0.0|        0.0|        0.0|        0.0|     1|\n",
            "|   2925.0|   5.0| 28.0|                           150.0|                          58.0|                          272.0|        172.0|         173.0|        127.0|                             162.0|             0.0|             0.0|             1.0|             0.0|       0.0|       0.0|       0.0|       0.0|       0.0|       0.0|       0.0|       0.0|       0.0|        0.0|        0.0|        0.0|        0.0|        0.0|        0.0|        0.0|        0.0|        0.0|        0.0|        0.0|        0.0|        0.0|        0.0|        0.0|        0.0|        0.0|        0.0|        0.0|        0.0|        0.0|        0.0|        0.0|        1.0|        0.0|        0.0|        0.0|        0.0|        0.0|        0.0|        0.0|     1|\n",
            "|   3153.0|  30.0| 12.0|                           216.0|                           9.0|                         3072.0|        216.0|         214.0|        132.0|                            3150.0|             0.0|             0.0|             1.0|             0.0|       0.0|       0.0|       0.0|       0.0|       0.0|       0.0|       0.0|       0.0|       0.0|        0.0|        0.0|        0.0|        0.0|        0.0|        0.0|        0.0|        0.0|        0.0|        0.0|        0.0|        0.0|        0.0|        0.0|        1.0|        0.0|        0.0|        0.0|        0.0|        0.0|        0.0|        0.0|        0.0|        0.0|        0.0|        0.0|        0.0|        0.0|        0.0|        0.0|        0.0|     1|\n",
            "|   3264.0| 113.0|  7.0|                           210.0|                          31.0|                         1950.0|        233.0|         233.0|        132.0|                            1399.0|             1.0|             0.0|             0.0|             0.0|       0.0|       0.0|       0.0|       0.0|       0.0|       0.0|       0.0|       0.0|       0.0|        0.0|        0.0|        0.0|        0.0|        0.0|        0.0|        0.0|        0.0|        0.0|        0.0|        0.0|        0.0|        0.0|        0.0|        0.0|        0.0|        0.0|        0.0|        0.0|        1.0|        0.0|        0.0|        0.0|        0.0|        0.0|        0.0|        0.0|        0.0|        0.0|        0.0|        0.0|     1|\n",
            "|   2985.0| 320.0| 16.0|                           120.0|                           4.0|                         3837.0|        177.0|         223.0|        185.0|                            1521.0|             1.0|             0.0|             0.0|             0.0|       0.0|       0.0|       0.0|       0.0|       0.0|       0.0|       0.0|       0.0|       0.0|        0.0|        0.0|        0.0|        0.0|        0.0|        0.0|        0.0|        0.0|        0.0|        0.0|        0.0|        0.0|        0.0|        0.0|        0.0|        0.0|        0.0|        0.0|        0.0|        1.0|        0.0|        0.0|        0.0|        0.0|        0.0|        0.0|        0.0|        0.0|        0.0|        0.0|        0.0|     1|\n",
            "|   3130.0| 301.0| 21.0|                           242.0|                          85.0|                          210.0|        157.0|         226.0|        207.0|                            1896.0|             0.0|             1.0|             0.0|             0.0|       0.0|       0.0|       0.0|       0.0|       0.0|       0.0|       0.0|       0.0|       0.0|        0.0|        0.0|        0.0|        0.0|        0.0|        0.0|        0.0|        0.0|        0.0|        0.0|        0.0|        0.0|        1.0|        0.0|        0.0|        0.0|        0.0|        0.0|        0.0|        0.0|        0.0|        0.0|        0.0|        0.0|        0.0|        0.0|        0.0|        0.0|        0.0|        0.0|        0.0|     0|\n",
            "|   2901.0| 145.0| 14.0|                           258.0|                          56.0|                         2188.0|        239.0|         237.0|        125.0|                             759.0|             0.0|             0.0|             1.0|             0.0|       0.0|       0.0|       0.0|       0.0|       0.0|       0.0|       0.0|       0.0|       0.0|        0.0|        0.0|        0.0|        0.0|        0.0|        0.0|        0.0|        0.0|        0.0|        0.0|        0.0|        0.0|        0.0|        0.0|        0.0|        0.0|        0.0|        0.0|        0.0|        0.0|        0.0|        0.0|        1.0|        0.0|        0.0|        0.0|        0.0|        0.0|        0.0|        0.0|        0.0|     1|\n",
            "|   3302.0| 144.0| 16.0|                           417.0|                          16.0|                         1084.0|        241.0|         235.0|        118.0|                            2803.0|             1.0|             0.0|             0.0|             0.0|       0.0|       0.0|       0.0|       0.0|       0.0|       0.0|       0.0|       0.0|       0.0|        0.0|        0.0|        0.0|        0.0|        0.0|        0.0|        0.0|        0.0|        0.0|        0.0|        0.0|        0.0|        1.0|        0.0|        0.0|        0.0|        0.0|        0.0|        0.0|        0.0|        0.0|        0.0|        0.0|        0.0|        0.0|        0.0|        0.0|        0.0|        0.0|        0.0|        0.0|     0|\n",
            "|   2184.0| 331.0| 30.0|                           124.0|                          72.0|                          745.0|        137.0|         188.0|        183.0|                             404.0|             0.0|             0.0|             0.0|             1.0|       0.0|       0.0|       0.0|       0.0|       0.0|       0.0|       0.0|       0.0|       0.0|        1.0|        0.0|        0.0|        0.0|        0.0|        0.0|        0.0|        0.0|        0.0|        0.0|        0.0|        0.0|        0.0|        0.0|        0.0|        0.0|        0.0|        0.0|        0.0|        0.0|        0.0|        0.0|        0.0|        0.0|        0.0|        0.0|        0.0|        0.0|        0.0|        0.0|        0.0|     2|\n",
            "|   3093.0| 164.0| 14.0|                           108.0|                           0.0|                         6975.0|        232.0|         244.0|        140.0|                            2574.0|             1.0|             0.0|             0.0|             0.0|       0.0|       0.0|       0.0|       0.0|       0.0|       0.0|       0.0|       0.0|       0.0|        0.0|        0.0|        0.0|        0.0|        0.0|        0.0|        0.0|        0.0|        0.0|        0.0|        0.0|        0.0|        0.0|        0.0|        0.0|        0.0|        0.0|        0.0|        0.0|        1.0|        0.0|        0.0|        0.0|        0.0|        0.0|        0.0|        0.0|        0.0|        0.0|        0.0|        0.0|     1|\n",
            "+---------+------+-----+--------------------------------+------------------------------+-------------------------------+-------------+--------------+-------------+----------------------------------+----------------+----------------+----------------+----------------+----------+----------+----------+----------+----------+----------+----------+----------+----------+-----------+-----------+-----------+-----------+-----------+-----------+-----------+-----------+-----------+-----------+-----------+-----------+-----------+-----------+-----------+-----------+-----------+-----------+-----------+-----------+-----------+-----------+-----------+-----------+-----------+-----------+-----------+-----------+-----------+-----------+-----------+------+\n",
            "only showing top 20 rows\n",
            "\n"
          ],
          "name": "stdout"
        }
      ]
    },
    {
      "cell_type": "code",
      "metadata": {
        "id": "mF7y6Lhx79-7",
        "colab_type": "code",
        "colab": {
          "base_uri": "https://localhost:8080/",
          "height": 54
        },
        "outputId": "a55c4f6e-57b7-47c9-96dc-dc87ad064ce1"
      },
      "source": [
        "train_data.schema"
      ],
      "execution_count": null,
      "outputs": [
        {
          "output_type": "execute_result",
          "data": {
            "text/plain": [
              "StructType(List(StructField(Elevation,DoubleType,true),StructField(Aspect,DoubleType,true),StructField(Slope,DoubleType,true),StructField(Horizontal_Distance_To_Hydrology,DoubleType,true),StructField(Vertical_Distance_To_Hydrology,DoubleType,true),StructField(Horizontal_Distance_To_Roadways,DoubleType,true),StructField(Hillshade_9am,DoubleType,true),StructField(Hillshade_Noon,DoubleType,true),StructField(Hillshade_3pm,DoubleType,true),StructField(Horizontal_Distance_To_Fire_Points,DoubleType,true),StructField(Wilderness_Area1,DoubleType,true),StructField(Wilderness_Area2,DoubleType,true),StructField(Wilderness_Area3,DoubleType,true),StructField(Wilderness_Area4,DoubleType,true),StructField(Soil_Type1,DoubleType,true),StructField(Soil_Type2,DoubleType,true),StructField(Soil_Type3,DoubleType,true),StructField(Soil_Type4,DoubleType,true),StructField(Soil_Type5,DoubleType,true),StructField(Soil_Type6,DoubleType,true),StructField(Soil_Type7,DoubleType,true),StructField(Soil_Type8,DoubleType,true),StructField(Soil_Type9,DoubleType,true),StructField(Soil_Type10,DoubleType,true),StructField(Soil_Type11,DoubleType,true),StructField(Soil_Type12,DoubleType,true),StructField(Soil_Type13,DoubleType,true),StructField(Soil_Type14,DoubleType,true),StructField(Soil_Type15,DoubleType,true),StructField(Soil_Type16,DoubleType,true),StructField(Soil_Type17,DoubleType,true),StructField(Soil_Type18,DoubleType,true),StructField(Soil_Type19,DoubleType,true),StructField(Soil_Type20,DoubleType,true),StructField(Soil_Type21,DoubleType,true),StructField(Soil_Type22,DoubleType,true),StructField(Soil_Type23,DoubleType,true),StructField(Soil_Type24,DoubleType,true),StructField(Soil_Type25,DoubleType,true),StructField(Soil_Type26,DoubleType,true),StructField(Soil_Type27,DoubleType,true),StructField(Soil_Type28,DoubleType,true),StructField(Soil_Type29,DoubleType,true),StructField(Soil_Type30,DoubleType,true),StructField(Soil_Type31,DoubleType,true),StructField(Soil_Type32,DoubleType,true),StructField(Soil_Type33,DoubleType,true),StructField(Soil_Type34,DoubleType,true),StructField(Soil_Type35,DoubleType,true),StructField(Soil_Type36,DoubleType,true),StructField(Soil_Type37,DoubleType,true),StructField(Soil_Type38,DoubleType,true),StructField(Soil_Type39,DoubleType,true),StructField(Soil_Type40,DoubleType,true),StructField(target,LongType,true)))"
            ]
          },
          "metadata": {
            "tags": []
          },
          "execution_count": 23
        }
      ]
    },
    {
      "cell_type": "code",
      "metadata": {
        "id": "_Xxnu2tX9E23",
        "colab_type": "code",
        "colab": {}
      },
      "source": [
        "pq_file=pq.read_table('covtype_train.parquet')"
      ],
      "execution_count": null,
      "outputs": []
    },
    {
      "cell_type": "code",
      "metadata": {
        "id": "Arj1KyTy9MX0",
        "colab_type": "code",
        "colab": {
          "base_uri": "https://localhost:8080/",
          "height": 952
        },
        "outputId": "0a8fdaac-4c8e-4c6d-d3db-0ffe23a9e573"
      },
      "source": [
        "pq_file.column_names"
      ],
      "execution_count": null,
      "outputs": [
        {
          "output_type": "execute_result",
          "data": {
            "text/plain": [
              "['Elevation',\n",
              " 'Aspect',\n",
              " 'Slope',\n",
              " 'Horizontal_Distance_To_Hydrology',\n",
              " 'Vertical_Distance_To_Hydrology',\n",
              " 'Horizontal_Distance_To_Roadways',\n",
              " 'Hillshade_9am',\n",
              " 'Hillshade_Noon',\n",
              " 'Hillshade_3pm',\n",
              " 'Horizontal_Distance_To_Fire_Points',\n",
              " 'Wilderness_Area1',\n",
              " 'Wilderness_Area2',\n",
              " 'Wilderness_Area3',\n",
              " 'Wilderness_Area4',\n",
              " 'Soil_Type1',\n",
              " 'Soil_Type2',\n",
              " 'Soil_Type3',\n",
              " 'Soil_Type4',\n",
              " 'Soil_Type5',\n",
              " 'Soil_Type6',\n",
              " 'Soil_Type7',\n",
              " 'Soil_Type8',\n",
              " 'Soil_Type9',\n",
              " 'Soil_Type10',\n",
              " 'Soil_Type11',\n",
              " 'Soil_Type12',\n",
              " 'Soil_Type13',\n",
              " 'Soil_Type14',\n",
              " 'Soil_Type15',\n",
              " 'Soil_Type16',\n",
              " 'Soil_Type17',\n",
              " 'Soil_Type18',\n",
              " 'Soil_Type19',\n",
              " 'Soil_Type20',\n",
              " 'Soil_Type21',\n",
              " 'Soil_Type22',\n",
              " 'Soil_Type23',\n",
              " 'Soil_Type24',\n",
              " 'Soil_Type25',\n",
              " 'Soil_Type26',\n",
              " 'Soil_Type27',\n",
              " 'Soil_Type28',\n",
              " 'Soil_Type29',\n",
              " 'Soil_Type30',\n",
              " 'Soil_Type31',\n",
              " 'Soil_Type32',\n",
              " 'Soil_Type33',\n",
              " 'Soil_Type34',\n",
              " 'Soil_Type35',\n",
              " 'Soil_Type36',\n",
              " 'Soil_Type37',\n",
              " 'Soil_Type38',\n",
              " 'Soil_Type39',\n",
              " 'Soil_Type40',\n",
              " 'target']"
            ]
          },
          "metadata": {
            "tags": []
          },
          "execution_count": 25
        }
      ]
    },
    {
      "cell_type": "code",
      "metadata": {
        "id": "z-H7CLer9DLE",
        "colab_type": "code",
        "colab": {}
      },
      "source": [
        "label=\"target\"\n",
        "features = [ x for x in pq_file.column_names if x != label ]"
      ],
      "execution_count": null,
      "outputs": []
    },
    {
      "cell_type": "code",
      "metadata": {
        "id": "7m0_Ifbx9fNU",
        "colab_type": "code",
        "colab": {
          "base_uri": "https://localhost:8080/",
          "height": 935
        },
        "outputId": "cb66dd3b-1b2b-4177-f69c-63d2e8f85a39"
      },
      "source": [
        "features"
      ],
      "execution_count": null,
      "outputs": [
        {
          "output_type": "execute_result",
          "data": {
            "text/plain": [
              "['Elevation',\n",
              " 'Aspect',\n",
              " 'Slope',\n",
              " 'Horizontal_Distance_To_Hydrology',\n",
              " 'Vertical_Distance_To_Hydrology',\n",
              " 'Horizontal_Distance_To_Roadways',\n",
              " 'Hillshade_9am',\n",
              " 'Hillshade_Noon',\n",
              " 'Hillshade_3pm',\n",
              " 'Horizontal_Distance_To_Fire_Points',\n",
              " 'Wilderness_Area1',\n",
              " 'Wilderness_Area2',\n",
              " 'Wilderness_Area3',\n",
              " 'Wilderness_Area4',\n",
              " 'Soil_Type1',\n",
              " 'Soil_Type2',\n",
              " 'Soil_Type3',\n",
              " 'Soil_Type4',\n",
              " 'Soil_Type5',\n",
              " 'Soil_Type6',\n",
              " 'Soil_Type7',\n",
              " 'Soil_Type8',\n",
              " 'Soil_Type9',\n",
              " 'Soil_Type10',\n",
              " 'Soil_Type11',\n",
              " 'Soil_Type12',\n",
              " 'Soil_Type13',\n",
              " 'Soil_Type14',\n",
              " 'Soil_Type15',\n",
              " 'Soil_Type16',\n",
              " 'Soil_Type17',\n",
              " 'Soil_Type18',\n",
              " 'Soil_Type19',\n",
              " 'Soil_Type20',\n",
              " 'Soil_Type21',\n",
              " 'Soil_Type22',\n",
              " 'Soil_Type23',\n",
              " 'Soil_Type24',\n",
              " 'Soil_Type25',\n",
              " 'Soil_Type26',\n",
              " 'Soil_Type27',\n",
              " 'Soil_Type28',\n",
              " 'Soil_Type29',\n",
              " 'Soil_Type30',\n",
              " 'Soil_Type31',\n",
              " 'Soil_Type32',\n",
              " 'Soil_Type33',\n",
              " 'Soil_Type34',\n",
              " 'Soil_Type35',\n",
              " 'Soil_Type36',\n",
              " 'Soil_Type37',\n",
              " 'Soil_Type38',\n",
              " 'Soil_Type39',\n",
              " 'Soil_Type40']"
            ]
          },
          "metadata": {
            "tags": []
          },
          "execution_count": 27
        }
      ]
    },
    {
      "cell_type": "code",
      "metadata": {
        "id": "JP--zyP48CcZ",
        "colab_type": "code",
        "colab": {}
      },
      "source": [
        "import time\n",
        "params = { \n",
        "    'eta': 0.1,\n",
        "    'gamma': 0.1,\n",
        "    'missing': 0.0,\n",
        "    'treeMethod': 'gpu_hist',\n",
        "    'maxDepth': 6, \n",
        "    'growPolicy': 'depthwise',\n",
        "    'lambda_': 1.0,\n",
        "    'subsample': 1.0,\n",
        "    'numRound': 1000,\n",
        "    'numWorkers': 1,\n",
        "    'verbosity': 2\n",
        "}\n",
        "classifier = XGBoostClassifier(**params).setLabelCol(label).setFeaturesCols(features)"
      ],
      "execution_count": null,
      "outputs": []
    },
    {
      "cell_type": "code",
      "metadata": {
        "id": "ETmJCqpc92DS",
        "colab_type": "code",
        "colab": {
          "base_uri": "https://localhost:8080/",
          "height": 34
        },
        "outputId": "dbb13374-5027-4e17-d6af-4c22fb06eeda"
      },
      "source": [
        "start_time = time.time()\n",
        "\n",
        "model=classifier.fit(train_data)\n",
        "\n",
        "print(\"GPU Training Time: %s seconds\" % (str(time.time() - start_time)))"
      ],
      "execution_count": null,
      "outputs": [
        {
          "output_type": "stream",
          "text": [
            "GPU Training Time: 14.906355857849121 seconds\n"
          ],
          "name": "stdout"
        }
      ]
    },
    {
      "cell_type": "code",
      "metadata": {
        "id": "5HNM0Yvhad5g",
        "colab_type": "code",
        "colab": {
          "base_uri": "https://localhost:8080/",
          "height": 357
        },
        "outputId": "132a687d-9c2a-4ec2-f8bd-937aba02b685"
      },
      "source": [
        "!nvidia-smi"
      ],
      "execution_count": null,
      "outputs": [
        {
          "output_type": "stream",
          "text": [
            "Tue Sep 15 03:31:11 2020       \n",
            "+-----------------------------------------------------------------------------+\n",
            "| NVIDIA-SMI 450.66       Driver Version: 418.67       CUDA Version: 10.1     |\n",
            "|-------------------------------+----------------------+----------------------+\n",
            "| GPU  Name        Persistence-M| Bus-Id        Disp.A | Volatile Uncorr. ECC |\n",
            "| Fan  Temp  Perf  Pwr:Usage/Cap|         Memory-Usage | GPU-Util  Compute M. |\n",
            "|                               |                      |               MIG M. |\n",
            "|===============================+======================+======================|\n",
            "|   0  Tesla P100-PCIE...  Off  | 00000000:00:04.0 Off |                    0 |\n",
            "| N/A   47C    P0    41W / 250W |   1339MiB / 16280MiB |      0%      Default |\n",
            "|                               |                      |                 ERR! |\n",
            "+-------------------------------+----------------------+----------------------+\n",
            "                                                                               \n",
            "+-----------------------------------------------------------------------------+\n",
            "| Processes:                                                                  |\n",
            "|  GPU   GI   CI        PID   Type   Process name                  GPU Memory |\n",
            "|        ID   ID                                                   Usage      |\n",
            "|=============================================================================|\n",
            "|  No running processes found                                                 |\n",
            "+-----------------------------------------------------------------------------+\n"
          ],
          "name": "stdout"
        }
      ]
    },
    {
      "cell_type": "code",
      "metadata": {
        "id": "gsncl_YUd_t5",
        "colab_type": "code",
        "colab": {}
      },
      "source": [
        "model.write().overwrite().save('/content/model/')"
      ],
      "execution_count": null,
      "outputs": []
    },
    {
      "cell_type": "code",
      "metadata": {
        "id": "DSicQt2S_ZwA",
        "colab_type": "code",
        "colab": {
          "base_uri": "https://localhost:8080/",
          "height": 119
        },
        "outputId": "53e03ffb-15ff-4df6-a7ff-360dc71b4ace"
      },
      "source": [
        "!ls"
      ],
      "execution_count": null,
      "outputs": [
        {
          "output_type": "stream",
          "text": [
            "covtype_test.parquet\t       spark-3.0.1-bin-hadoop2.7\n",
            "covtype_train.parquet\t       spark-3.0.1-bin-hadoop2.7.tgz\n",
            "cudf-0.14-cuda10-1.jar\t       spark-3.0.1-bin-hadoop2.7.tgz.1\n",
            "model\t\t\t       xgboost4j_3.0-1.0.0-0.1.0.jar\n",
            "rapids-4-spark_2.12-0.1.0.jar  xgboost4j-spark_3.0-1.0.0-0.1.0.jar\n",
            "sample_data\n"
          ],
          "name": "stdout"
        }
      ]
    },
    {
      "cell_type": "code",
      "metadata": {
        "id": "8SNSDrk8_a6v",
        "colab_type": "code",
        "colab": {}
      },
      "source": [
        "loaded_model = XGBoostClassificationModel().load('/content/model/')"
      ],
      "execution_count": null,
      "outputs": []
    },
    {
      "cell_type": "code",
      "metadata": {
        "id": "JbOE8VmeLLRB",
        "colab_type": "code",
        "colab": {}
      },
      "source": [
        "result=loaded_model.transform(test_data)"
      ],
      "execution_count": null,
      "outputs": []
    },
    {
      "cell_type": "code",
      "metadata": {
        "id": "9L5c-kfDLaoU",
        "colab_type": "code",
        "colab": {
          "base_uri": "https://localhost:8080/",
          "height": 204
        },
        "outputId": "686ae967-0d93-4d6b-ad2c-054fedb710ed"
      },
      "source": [
        "result.select(label, 'rawPrediction', 'probability', 'prediction').show(5)"
      ],
      "execution_count": null,
      "outputs": [
        {
          "output_type": "stream",
          "text": [
            "+------+--------------------+--------------------+----------+\n",
            "|target|       rawPrediction|         probability|prediction|\n",
            "+------+--------------------+--------------------+----------+\n",
            "|     1|[-0.7645629644393...|[0.23543703556060...|       1.0|\n",
            "|     4|[-3.3206388950347...|[-2.3206388950347...|       1.0|\n",
            "|     4|[-3.2919535636901...|[-2.2919535636901...|       1.0|\n",
            "|     4|[-3.3060050010681...|[-2.3060050010681...|       1.0|\n",
            "|     4|[-2.9611465930938...|[-1.9611465930938...|       1.0|\n",
            "+------+--------------------+--------------------+----------+\n",
            "only showing top 5 rows\n",
            "\n"
          ],
          "name": "stdout"
        }
      ]
    },
    {
      "cell_type": "code",
      "metadata": {
        "id": "gCGdLPg66QRj",
        "colab_type": "code",
        "colab": {}
      },
      "source": [
        ""
      ],
      "execution_count": null,
      "outputs": []
    },
    {
      "cell_type": "code",
      "metadata": {
        "id": "TmbmMJ8c6QJT",
        "colab_type": "code",
        "colab": {}
      },
      "source": [
        ""
      ],
      "execution_count": null,
      "outputs": []
    },
    {
      "cell_type": "code",
      "metadata": {
        "id": "bXsirZW26QAZ",
        "colab_type": "code",
        "colab": {}
      },
      "source": [
        ""
      ],
      "execution_count": null,
      "outputs": []
    },
    {
      "cell_type": "code",
      "metadata": {
        "id": "H5gTZuJj6P5K",
        "colab_type": "code",
        "colab": {}
      },
      "source": [
        ""
      ],
      "execution_count": null,
      "outputs": []
    },
    {
      "cell_type": "code",
      "metadata": {
        "id": "0pizvNbX6NlH",
        "colab_type": "code",
        "colab": {}
      },
      "source": [
        ""
      ],
      "execution_count": null,
      "outputs": []
    },
    {
      "cell_type": "code",
      "metadata": {
        "id": "woCQw2oZ6NUR",
        "colab_type": "code",
        "colab": {}
      },
      "source": [
        ""
      ],
      "execution_count": null,
      "outputs": []
    },
    {
      "cell_type": "code",
      "metadata": {
        "id": "Uhq48w_WLlP9",
        "colab_type": "code",
        "colab": {}
      },
      "source": [
        "MulticlassClassificationEvaluator().setLabelCol(label).evaluate(result)"
      ],
      "execution_count": null,
      "outputs": []
    },
    {
      "cell_type": "code",
      "metadata": {
        "id": "qvEZN98PMALM",
        "colab_type": "code",
        "colab": {}
      },
      "source": [
        ""
      ],
      "execution_count": null,
      "outputs": []
    }
  ]
}